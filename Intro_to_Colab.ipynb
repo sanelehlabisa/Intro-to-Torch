{
  "nbformat": 4,
  "nbformat_minor": 0,
  "metadata": {
    "colab": {
      "provenance": [],
      "gpuType": "T4",
      "authorship_tag": "ABX9TyO6jWsGcK1bEmrjj91ydAQc",
      "include_colab_link": true
    },
    "kernelspec": {
      "name": "python3",
      "display_name": "Python 3"
    },
    "language_info": {
      "name": "python"
    },
    "accelerator": "GPU"
  },
  "cells": [
    {
      "cell_type": "markdown",
      "metadata": {
        "id": "view-in-github",
        "colab_type": "text"
      },
      "source": [
        "<a href=\"https://colab.research.google.com/github/sanelehlabisa/Intro-to-Torch/blob/main/Intro_to_Colab.ipynb\" target=\"_parent\"><img src=\"https://colab.research.google.com/assets/colab-badge.svg\" alt=\"Open In Colab\"/></a>"
      ]
    },
    {
      "cell_type": "markdown",
      "source": [
        "#Tensors\n",
        "- A torch tensor is a multi-dimention matrix containing elements of single data type.\n",
        "- Similar to numpy arr but has lot benefits if they are used with a GPU.\n",
        "- Default type is float32.\n",
        "- More suitable for deep learning that numpy array.\n"
      ],
      "metadata": {
        "id": "17mwbG2spivd"
      }
    },
    {
      "cell_type": "code",
      "source": [
        "import torch\n",
        "import numpy as np"
      ],
      "metadata": {
        "id": "ghkNR830qYv7"
      },
      "execution_count": 1,
      "outputs": []
    },
    {
      "cell_type": "markdown",
      "source": [
        "##Lists"
      ],
      "metadata": {
        "id": "LBJJuBa3qmWM"
      }
    },
    {
      "cell_type": "code",
      "source": [
        "my_list = [[1,2,3,4,5],[6,7,8,9,10]]\n",
        "my_list"
      ],
      "metadata": {
        "id": "edvhVB3vqdbD",
        "outputId": "c88d86e0-7370-4118-ac95-0ebbace6d2ac",
        "colab": {
          "base_uri": "https://localhost:8080/"
        }
      },
      "execution_count": 2,
      "outputs": [
        {
          "output_type": "execute_result",
          "data": {
            "text/plain": [
              "[[1, 2, 3, 4, 5], [6, 7, 8, 9, 10]]"
            ]
          },
          "metadata": {},
          "execution_count": 2
        }
      ]
    },
    {
      "cell_type": "markdown",
      "source": [
        "# Numpy arrays"
      ],
      "metadata": {
        "id": "6crNSrX9quNM"
      }
    },
    {
      "cell_type": "code",
      "source": [
        "numpy_array = np.random.rand(3,4)\n",
        "numpy_array"
      ],
      "metadata": {
        "id": "oonKfx4Vqx-F",
        "outputId": "32d245de-5cf4-4ad2-e399-6f0980b1a900",
        "colab": {
          "base_uri": "https://localhost:8080/"
        }
      },
      "execution_count": 3,
      "outputs": [
        {
          "output_type": "execute_result",
          "data": {
            "text/plain": [
              "array([[0.55640848, 0.82411287, 0.56640033, 0.72742344],\n",
              "       [0.39908289, 0.05772546, 0.06250803, 0.4771029 ],\n",
              "       [0.12929618, 0.52452949, 0.299285  , 0.12673563]])"
            ]
          },
          "metadata": {},
          "execution_count": 3
        }
      ]
    },
    {
      "cell_type": "code",
      "source": [
        "numpy_array.dtype"
      ],
      "metadata": {
        "id": "PuAUO8r-rIAl",
        "outputId": "4daecdf9-44fe-4281-87ba-5d992b6d357a",
        "colab": {
          "base_uri": "https://localhost:8080/"
        }
      },
      "execution_count": 5,
      "outputs": [
        {
          "output_type": "execute_result",
          "data": {
            "text/plain": [
              "dtype('float64')"
            ]
          },
          "metadata": {},
          "execution_count": 5
        }
      ]
    },
    {
      "cell_type": "markdown",
      "source": [
        "## Tensor arrays"
      ],
      "metadata": {
        "id": "OOcfJUv0rRXY"
      }
    },
    {
      "cell_type": "code",
      "source": [
        "tensor_array = torch.rand(3,4)\n",
        "tensor_array"
      ],
      "metadata": {
        "id": "BUoyMTG0rOP4",
        "outputId": "e15aa1e1-1a69-405a-e817-6b81c59c39ba",
        "colab": {
          "base_uri": "https://localhost:8080/"
        }
      },
      "execution_count": 6,
      "outputs": [
        {
          "output_type": "execute_result",
          "data": {
            "text/plain": [
              "tensor([[0.6066, 0.1549, 0.5647, 0.5318],\n",
              "        [0.8960, 0.6152, 0.1708, 0.9434],\n",
              "        [0.8992, 0.6771, 0.5570, 0.6960]])"
            ]
          },
          "metadata": {},
          "execution_count": 6
        }
      ]
    },
    {
      "cell_type": "code",
      "source": [
        "tensor3d_array = torch.zeros(2,3,4)\n",
        "tensor3d_array"
      ],
      "metadata": {
        "id": "8I12fEOyrb06",
        "outputId": "6947d02e-536d-4308-8adf-167ee57edd45",
        "colab": {
          "base_uri": "https://localhost:8080/"
        }
      },
      "execution_count": 7,
      "outputs": [
        {
          "output_type": "execute_result",
          "data": {
            "text/plain": [
              "tensor([[[0., 0., 0., 0.],\n",
              "         [0., 0., 0., 0.],\n",
              "         [0., 0., 0., 0.]],\n",
              "\n",
              "        [[0., 0., 0., 0.],\n",
              "         [0., 0., 0., 0.],\n",
              "         [0., 0., 0., 0.]]])"
            ]
          },
          "metadata": {},
          "execution_count": 7
        }
      ]
    },
    {
      "cell_type": "code",
      "source": [
        "## Create tensor from numpy\n",
        "\n",
        "my_tensor = torch.tensor(numpy_array)\n",
        "my_tensor"
      ],
      "metadata": {
        "id": "VsOzH45Xrnn5",
        "outputId": "729795ee-102e-4867-b581-cc4111888d3a",
        "colab": {
          "base_uri": "https://localhost:8080/"
        }
      },
      "execution_count": 8,
      "outputs": [
        {
          "output_type": "execute_result",
          "data": {
            "text/plain": [
              "tensor([[0.5564, 0.8241, 0.5664, 0.7274],\n",
              "        [0.3991, 0.0577, 0.0625, 0.4771],\n",
              "        [0.1293, 0.5245, 0.2993, 0.1267]], dtype=torch.float64)"
            ]
          },
          "metadata": {},
          "execution_count": 8
        }
      ]
    },
    {
      "cell_type": "markdown",
      "source": [
        "## Tensor operations"
      ],
      "metadata": {
        "id": "yfyIH-2Qsi8f"
      }
    },
    {
      "cell_type": "code",
      "source": [
        "my_torch = torch.arange(10)\n",
        "my_torch"
      ],
      "metadata": {
        "id": "qC9VIFznsmHC",
        "outputId": "c963675c-e8a5-414d-9c77-ce4c9c27082b",
        "colab": {
          "base_uri": "https://localhost:8080/"
        }
      },
      "execution_count": 9,
      "outputs": [
        {
          "output_type": "execute_result",
          "data": {
            "text/plain": [
              "tensor([0, 1, 2, 3, 4, 5, 6, 7, 8, 9])"
            ]
          },
          "metadata": {},
          "execution_count": 9
        }
      ]
    },
    {
      "cell_type": "code",
      "source": [
        "# 1. Reshape\n",
        "my_torch = my_torch.reshape(2,5)\n",
        "my_torch"
      ],
      "metadata": {
        "id": "a19QLQvBs39j",
        "outputId": "4cae4398-dd2a-4f81-8c56-f82722d37d83",
        "colab": {
          "base_uri": "https://localhost:8080/"
        }
      },
      "execution_count": 10,
      "outputs": [
        {
          "output_type": "execute_result",
          "data": {
            "text/plain": [
              "tensor([[0, 1, 2, 3, 4],\n",
              "        [5, 6, 7, 8, 9]])"
            ]
          },
          "metadata": {},
          "execution_count": 10
        }
      ]
    },
    {
      "cell_type": "code",
      "source": [
        "my_torch2 = torch.arange(10)\n",
        "my_torch2 = my_torch2.reshape(-1,2)\n",
        "my_torch2\n"
      ],
      "metadata": {
        "id": "6pqWatLGtFZL",
        "outputId": "8c8b7922-1ada-4082-9b74-ab04ee202619",
        "colab": {
          "base_uri": "https://localhost:8080/"
        }
      },
      "execution_count": 26,
      "outputs": [
        {
          "output_type": "execute_result",
          "data": {
            "text/plain": [
              "tensor([[0, 1],\n",
              "        [2, 3],\n",
              "        [4, 5],\n",
              "        [6, 7],\n",
              "        [8, 9]])"
            ]
          },
          "metadata": {},
          "execution_count": 26
        }
      ]
    },
    {
      "cell_type": "code",
      "source": [
        "# 2. View\n",
        "my_torch3 = torch.arange(10)\n",
        "my_torch3 = my_torch3.view(2,5)\n",
        "my_torch3"
      ],
      "metadata": {
        "id": "_PcAwSLtx0NZ",
        "outputId": "259c247d-e826-4cc3-d1d1-30b781ca3976",
        "colab": {
          "base_uri": "https://localhost:8080/"
        }
      },
      "execution_count": 28,
      "outputs": [
        {
          "output_type": "execute_result",
          "data": {
            "text/plain": [
              "tensor([[0, 1, 2, 3, 4],\n",
              "        [5, 6, 7, 8, 9]])"
            ]
          },
          "metadata": {},
          "execution_count": 28
        }
      ]
    },
    {
      "cell_type": "markdown",
      "source": [
        "### Difference between torch viev and reshape\n",
        "- Torch view creates a view of the original tensor and share same data.\n",
        "- Whereas Torch reshape creates a copy of the orriginal tensor under some conditions resulting in a new tensor with different data."
      ],
      "metadata": {
        "id": "N-ewcQNWyOzX"
      }
    },
    {
      "cell_type": "code",
      "source": [
        "# Both reshape and view, they will both update along our tensor\n",
        "my_tensor4 = torch.arange(10)\n",
        "\n",
        "my_tensor5 = my_tensor4.reshape(2,5)\n",
        "\n",
        "my_tensor6 = my_tensor4.view(2,5)\n"
      ],
      "metadata": {
        "id": "3aEXU2oxyL1A",
        "outputId": "4e4bf2e4-db14-4a9a-a614-6ba1257ece23",
        "colab": {
          "base_uri": "https://localhost:8080/"
        }
      },
      "execution_count": 32,
      "outputs": [
        {
          "output_type": "execute_result",
          "data": {
            "text/plain": [
              "tensor([[0, 1, 2, 3, 4],\n",
              "        [5, 6, 7, 8, 9]])"
            ]
          },
          "metadata": {},
          "execution_count": 32
        }
      ]
    },
    {
      "cell_type": "code",
      "source": [
        "my_tensor4[0] = 4141\n",
        "\n",
        "print(my_tensor5)\n",
        "print(my_tensor6)\n",
        "\n",
        "# The change in my_tensor4 is reflected in both my_tensor5 and my_tensor6"
      ],
      "metadata": {
        "id": "5snKgYOu01q_",
        "outputId": "47b83370-87c5-486f-8462-411d67cb471a",
        "colab": {
          "base_uri": "https://localhost:8080/"
        }
      },
      "execution_count": 35,
      "outputs": [
        {
          "output_type": "stream",
          "name": "stdout",
          "text": [
            "tensor([[4141,    1,    2,    3,    4],\n",
            "        [   5,    6,    7,    8,    9]])\n",
            "tensor([[4141,    1,    2,    3,    4],\n",
            "        [   5,    6,    7,    8,    9]])\n"
          ]
        }
      ]
    },
    {
      "cell_type": "code",
      "source": [
        "# 3. Slices\n",
        "my_torch7 = torch.arange(10)\n",
        "my_torch7"
      ],
      "metadata": {
        "id": "Id7k_m82Cf7g",
        "outputId": "3cb0c4cc-bb80-4e92-b229-bcbf40a1af0f",
        "colab": {
          "base_uri": "https://localhost:8080/"
        }
      },
      "execution_count": 37,
      "outputs": [
        {
          "output_type": "execute_result",
          "data": {
            "text/plain": [
              "tensor([0, 1, 2, 3, 4, 5, 6, 7, 8, 9])"
            ]
          },
          "metadata": {},
          "execution_count": 37
        }
      ]
    },
    {
      "cell_type": "code",
      "source": [
        "my_torch7[7]"
      ],
      "metadata": {
        "id": "-lF0DUa5CpS9",
        "outputId": "a4e3219f-ab32-4bf4-e24e-6e383c8053b1",
        "colab": {
          "base_uri": "https://localhost:8080/"
        }
      },
      "execution_count": 38,
      "outputs": [
        {
          "output_type": "execute_result",
          "data": {
            "text/plain": [
              "tensor(7)"
            ]
          },
          "metadata": {},
          "execution_count": 38
        }
      ]
    },
    {
      "cell_type": "code",
      "source": [
        "my_tensor8 = my_torch7.reshape(5, 2)\n",
        "my_tensor8"
      ],
      "metadata": {
        "id": "PVMAanxiC9un",
        "outputId": "4e651b23-4c7c-4ca9-91a0-4be1800fb11d",
        "colab": {
          "base_uri": "https://localhost:8080/"
        }
      },
      "execution_count": 41,
      "outputs": [
        {
          "output_type": "execute_result",
          "data": {
            "text/plain": [
              "tensor([[0, 1],\n",
              "        [2, 3],\n",
              "        [4, 5],\n",
              "        [6, 7],\n",
              "        [8, 9]])"
            ]
          },
          "metadata": {},
          "execution_count": 41
        }
      ]
    },
    {
      "cell_type": "code",
      "source": [
        "my_tensor8[:,1:]"
      ],
      "metadata": {
        "id": "lsqN_JZyDXei",
        "outputId": "157e84ee-c44a-47dd-f0bc-f08901e4b25b",
        "colab": {
          "base_uri": "https://localhost:8080/"
        }
      },
      "execution_count": 43,
      "outputs": [
        {
          "output_type": "execute_result",
          "data": {
            "text/plain": [
              "tensor([[1],\n",
              "        [3],\n",
              "        [5],\n",
              "        [7],\n",
              "        [9]])"
            ]
          },
          "metadata": {},
          "execution_count": 43
        }
      ]
    },
    {
      "cell_type": "code",
      "source": [
        "# 4. Addition\n",
        "\n",
        "tensor_a = torch.tensor([1,2,3,4,5])\n",
        "tensor_b = torch.tensor([6,7,8,9,10])\n",
        "\n",
        "tensor_a + tensor_b\n"
      ],
      "metadata": {
        "id": "q0vXXbFcD_5O",
        "outputId": "0eaa5525-2303-47cd-f848-1a6dd3b82089",
        "colab": {
          "base_uri": "https://localhost:8080/"
        }
      },
      "execution_count": 73,
      "outputs": [
        {
          "output_type": "execute_result",
          "data": {
            "text/plain": [
              "tensor([ 7,  9, 11, 13, 15])"
            ]
          },
          "metadata": {},
          "execution_count": 73
        }
      ]
    },
    {
      "cell_type": "code",
      "source": [
        "# Addition longhand\n",
        "torch.add(tensor_a, tensor_b)"
      ],
      "metadata": {
        "id": "XLcsmZhVEqg9",
        "outputId": "4ffc0bd1-da7f-416f-a33e-db0d888d0c6c",
        "colab": {
          "base_uri": "https://localhost:8080/"
        }
      },
      "execution_count": 45,
      "outputs": [
        {
          "output_type": "execute_result",
          "data": {
            "text/plain": [
              "tensor([ 7,  9, 11, 13, 15])"
            ]
          },
          "metadata": {},
          "execution_count": 45
        }
      ]
    },
    {
      "cell_type": "code",
      "source": [
        "# 5. Subtraction\n",
        "\n",
        "tensor_b - tensor_a"
      ],
      "metadata": {
        "id": "751SlwL0E0Vq",
        "outputId": "02ef0bf5-6e35-4a27-b3af-86afb78dc143",
        "colab": {
          "base_uri": "https://localhost:8080/"
        }
      },
      "execution_count": 46,
      "outputs": [
        {
          "output_type": "execute_result",
          "data": {
            "text/plain": [
              "tensor([5, 5, 5, 5, 5])"
            ]
          },
          "metadata": {},
          "execution_count": 46
        }
      ]
    },
    {
      "cell_type": "code",
      "source": [
        "# Subtraction longhand\n",
        "\n",
        "torch.subtract(tensor_b, tensor_a)"
      ],
      "metadata": {
        "id": "ZtWVb45NFAMK",
        "outputId": "16d30edb-0304-4fcf-d6b5-763ca685dd42",
        "colab": {
          "base_uri": "https://localhost:8080/"
        }
      },
      "execution_count": 55,
      "outputs": [
        {
          "output_type": "execute_result",
          "data": {
            "text/plain": [
              "tensor([5, 5, 5, 5, 5])"
            ]
          },
          "metadata": {},
          "execution_count": 55
        }
      ]
    },
    {
      "cell_type": "code",
      "source": [
        "# 6. Multiplication\n",
        "\n",
        "tensor_a * tensor_b"
      ],
      "metadata": {
        "id": "vF6c-XIhFNi1",
        "outputId": "92f46ede-af17-4057-fbae-a648e93bf506",
        "colab": {
          "base_uri": "https://localhost:8080/"
        }
      },
      "execution_count": 56,
      "outputs": [
        {
          "output_type": "execute_result",
          "data": {
            "text/plain": [
              "tensor([ 6, 14, 24, 36, 50])"
            ]
          },
          "metadata": {},
          "execution_count": 56
        }
      ]
    },
    {
      "cell_type": "code",
      "source": [
        "# Multiplication longhand\n",
        "\n",
        "torch.multiply(tensor_a, tensor_b)"
      ],
      "metadata": {
        "id": "qLYyoN-fFZUp",
        "outputId": "ea354759-c211-4ec8-cc09-58f569567720",
        "colab": {
          "base_uri": "https://localhost:8080/"
        }
      },
      "execution_count": 57,
      "outputs": [
        {
          "output_type": "execute_result",
          "data": {
            "text/plain": [
              "tensor([ 6, 14, 24, 36, 50])"
            ]
          },
          "metadata": {},
          "execution_count": 57
        }
      ]
    },
    {
      "cell_type": "code",
      "source": [
        "# 7. Division\n",
        "\n",
        "tensor_b / tensor_a"
      ],
      "metadata": {
        "id": "6ZkFnRQXFZWS",
        "outputId": "f3dcdb8a-3423-4f62-b71e-c9827c5ded0d",
        "colab": {
          "base_uri": "https://localhost:8080/"
        }
      },
      "execution_count": 58,
      "outputs": [
        {
          "output_type": "execute_result",
          "data": {
            "text/plain": [
              "tensor([6.0000, 3.5000, 2.6667, 2.2500, 2.0000])"
            ]
          },
          "metadata": {},
          "execution_count": 58
        }
      ]
    },
    {
      "cell_type": "code",
      "source": [
        "# Division longhand\n",
        "\n",
        "torch.divide(tensor_b, tensor_a) # try torch.div()"
      ],
      "metadata": {
        "id": "LC_ByHU1FusR",
        "outputId": "b86faad8-8753-487e-96e2-ac7d28ece5c1",
        "colab": {
          "base_uri": "https://localhost:8080/"
        }
      },
      "execution_count": 60,
      "outputs": [
        {
          "output_type": "execute_result",
          "data": {
            "text/plain": [
              "tensor([6.0000, 3.5000, 2.6667, 2.2500, 2.0000])"
            ]
          },
          "metadata": {},
          "execution_count": 60
        }
      ]
    },
    {
      "cell_type": "code",
      "source": [
        "# 8. Modulos\n",
        "\n",
        "tensor_b % tensor_a"
      ],
      "metadata": {
        "id": "WUgMABFqGPi1",
        "outputId": "5f8c230c-1f0b-47ff-d588-15465cf97845",
        "colab": {
          "base_uri": "https://localhost:8080/"
        }
      },
      "execution_count": 61,
      "outputs": [
        {
          "output_type": "execute_result",
          "data": {
            "text/plain": [
              "tensor([0, 1, 2, 1, 0])"
            ]
          },
          "metadata": {},
          "execution_count": 61
        }
      ]
    },
    {
      "cell_type": "code",
      "source": [
        "# Modulus longhand\n",
        "\n",
        "torch.remainder(tensor_b, tensor_a)"
      ],
      "metadata": {
        "id": "iVaLWFYbGwTQ",
        "outputId": "83ac3f34-6e2d-4b9e-ae42-2007dc30674b",
        "colab": {
          "base_uri": "https://localhost:8080/"
        }
      },
      "execution_count": 62,
      "outputs": [
        {
          "output_type": "execute_result",
          "data": {
            "text/plain": [
              "tensor([0, 1, 2, 1, 0])"
            ]
          },
          "metadata": {},
          "execution_count": 62
        }
      ]
    },
    {
      "cell_type": "code",
      "source": [
        "# 9. Exponents\n",
        "\n",
        "tensor_a ** tensor_b"
      ],
      "metadata": {
        "id": "ZMCQNcp-G7_o",
        "outputId": "4ba726c4-9490-4203-8971-d239e3a44e17",
        "colab": {
          "base_uri": "https://localhost:8080/"
        }
      },
      "execution_count": 64,
      "outputs": [
        {
          "output_type": "execute_result",
          "data": {
            "text/plain": [
              "tensor([      1,     128,    6561,  262144, 9765625])"
            ]
          },
          "metadata": {},
          "execution_count": 64
        }
      ]
    },
    {
      "cell_type": "code",
      "source": [
        "# Exponents longhand\n",
        "\n",
        "torch.pow(tensor_a, tensor_b)"
      ],
      "metadata": {
        "id": "9rteHZedHGnZ",
        "outputId": "0aeffb82-f098-4882-c7f4-1f5f4e8df675",
        "colab": {
          "base_uri": "https://localhost:8080/"
        }
      },
      "execution_count": 65,
      "outputs": [
        {
          "output_type": "execute_result",
          "data": {
            "text/plain": [
              "tensor([      1,     128,    6561,  262144, 9765625])"
            ]
          },
          "metadata": {},
          "execution_count": 65
        }
      ]
    },
    {
      "cell_type": "code",
      "source": [
        "# Note that torch.pow(a, b) = a.pow(b)\n",
        "tensor_a.pow(tensor_b) # same as above"
      ],
      "metadata": {
        "id": "ME7x42rqHZjJ",
        "outputId": "eb9154b8-0111-4312-b7bd-87a282ecffd9",
        "colab": {
          "base_uri": "https://localhost:8080/"
        }
      },
      "execution_count": 67,
      "outputs": [
        {
          "output_type": "execute_result",
          "data": {
            "text/plain": [
              "tensor([      1,     128,    6561,  262144, 9765625])"
            ]
          },
          "metadata": {},
          "execution_count": 67
        }
      ]
    },
    {
      "cell_type": "code",
      "source": [
        "# 10. Reassignment\n",
        "\n",
        "tensor_a = tensor_a + tensor_b\n",
        "tensor_a"
      ],
      "metadata": {
        "id": "LUU5Ytu7HzRM",
        "outputId": "dacaf46a-5e9a-40a1-92a8-7cf963fe8b44",
        "colab": {
          "base_uri": "https://localhost:8080/"
        }
      },
      "execution_count": 74,
      "outputs": [
        {
          "output_type": "execute_result",
          "data": {
            "text/plain": [
              "tensor([ 7,  9, 11, 13, 15])"
            ]
          },
          "metadata": {},
          "execution_count": 74
        }
      ]
    },
    {
      "cell_type": "code",
      "source": [
        "# Reassignmnet Addition longhand\n",
        "\n",
        "tensor_a.add_(tensor_b) # it's the same as tensor_a = tensor_a + tensor_b\n",
        "tensor_a"
      ],
      "metadata": {
        "id": "cmw1_s8bIj_X",
        "outputId": "ee6895f0-2a11-4466-8196-5c10107ec850",
        "colab": {
          "base_uri": "https://localhost:8080/"
        }
      },
      "execution_count": 76,
      "outputs": [
        {
          "output_type": "execute_result",
          "data": {
            "text/plain": [
              "tensor([19, 23, 27, 31, 35])"
            ]
          },
          "metadata": {},
          "execution_count": 76
        }
      ]
    }
  ]
}