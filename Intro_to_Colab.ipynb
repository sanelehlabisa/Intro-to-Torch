{
  "nbformat": 4,
  "nbformat_minor": 0,
  "metadata": {
    "colab": {
      "provenance": [],
      "gpuType": "T4",
      "authorship_tag": "ABX9TyPOHE1fTUv09K9me3iKe3pf",
      "include_colab_link": true
    },
    "kernelspec": {
      "name": "python3",
      "display_name": "Python 3"
    },
    "language_info": {
      "name": "python"
    },
    "accelerator": "GPU"
  },
  "cells": [
    {
      "cell_type": "markdown",
      "metadata": {
        "id": "view-in-github",
        "colab_type": "text"
      },
      "source": [
        "<a href=\"https://colab.research.google.com/github/sanelehlabisa/Intro-to-Torch/blob/main/Intro_to_Colab.ipynb\" target=\"_parent\"><img src=\"https://colab.research.google.com/assets/colab-badge.svg\" alt=\"Open In Colab\"/></a>"
      ]
    },
    {
      "cell_type": "markdown",
      "source": [
        "#Tensors\n",
        "- A torch tensor is a multi-dimention matrix containing elements of single data type.\n",
        "- Similar to numpy arr but has lot benefits if they are used with a GPU.\n",
        "- Default type is float32.\n",
        "- More suitable for deep learning that numpy array.\n"
      ],
      "metadata": {
        "id": "17mwbG2spivd"
      }
    },
    {
      "cell_type": "code",
      "source": [
        "import torch\n",
        "import numpy as np"
      ],
      "metadata": {
        "id": "ghkNR830qYv7"
      },
      "execution_count": 89,
      "outputs": []
    },
    {
      "cell_type": "markdown",
      "source": [
        "##Lists"
      ],
      "metadata": {
        "id": "LBJJuBa3qmWM"
      }
    },
    {
      "cell_type": "code",
      "source": [
        "my_list = [[1,2,3,4,5],[6,7,8,9,10]]\n",
        "my_list"
      ],
      "metadata": {
        "id": "edvhVB3vqdbD",
        "outputId": "6d8d9b76-60f3-4d1e-c39f-080993ee3bfe",
        "colab": {
          "base_uri": "https://localhost:8080/"
        }
      },
      "execution_count": 90,
      "outputs": [
        {
          "output_type": "execute_result",
          "data": {
            "text/plain": [
              "[[1, 2, 3, 4, 5], [6, 7, 8, 9, 10]]"
            ]
          },
          "metadata": {},
          "execution_count": 90
        }
      ]
    },
    {
      "cell_type": "markdown",
      "source": [
        "# Numpy arrays"
      ],
      "metadata": {
        "id": "6crNSrX9quNM"
      }
    },
    {
      "cell_type": "code",
      "source": [
        "numpy_array = np.random.rand(3,4)\n",
        "numpy_array"
      ],
      "metadata": {
        "id": "oonKfx4Vqx-F",
        "outputId": "f280953c-b093-4e8b-ddc7-154d0b0d43d5",
        "colab": {
          "base_uri": "https://localhost:8080/"
        }
      },
      "execution_count": 91,
      "outputs": [
        {
          "output_type": "execute_result",
          "data": {
            "text/plain": [
              "array([[0.97666968, 0.61217048, 0.65817725, 0.14397254],\n",
              "       [0.40481576, 0.95321705, 0.91701617, 0.37211328],\n",
              "       [0.24641087, 0.21959666, 0.32677505, 0.42479658]])"
            ]
          },
          "metadata": {},
          "execution_count": 91
        }
      ]
    },
    {
      "cell_type": "code",
      "source": [
        "numpy_array.dtype"
      ],
      "metadata": {
        "id": "PuAUO8r-rIAl",
        "outputId": "9af8a77c-2fe9-4ee4-c4b4-be3ae3d8e53e",
        "colab": {
          "base_uri": "https://localhost:8080/"
        }
      },
      "execution_count": 92,
      "outputs": [
        {
          "output_type": "execute_result",
          "data": {
            "text/plain": [
              "dtype('float64')"
            ]
          },
          "metadata": {},
          "execution_count": 92
        }
      ]
    },
    {
      "cell_type": "markdown",
      "source": [
        "## Tensor arrays"
      ],
      "metadata": {
        "id": "OOcfJUv0rRXY"
      }
    },
    {
      "cell_type": "code",
      "source": [
        "tensor_array = torch.rand(3,4)\n",
        "tensor_array"
      ],
      "metadata": {
        "id": "BUoyMTG0rOP4",
        "outputId": "1112995f-1727-4758-b590-a118bd86750e",
        "colab": {
          "base_uri": "https://localhost:8080/"
        }
      },
      "execution_count": 93,
      "outputs": [
        {
          "output_type": "execute_result",
          "data": {
            "text/plain": [
              "tensor([[0.0900, 0.9505, 0.3710, 0.0727],\n",
              "        [0.3440, 0.4381, 0.7205, 0.2863],\n",
              "        [0.1728, 0.4737, 0.2315, 0.1612]])"
            ]
          },
          "metadata": {},
          "execution_count": 93
        }
      ]
    },
    {
      "cell_type": "code",
      "source": [
        "tensor3d_array = torch.zeros(2,3,4)\n",
        "tensor3d_array"
      ],
      "metadata": {
        "id": "8I12fEOyrb06",
        "outputId": "72bb4c75-094b-497f-f1be-7fd2ceb5d422",
        "colab": {
          "base_uri": "https://localhost:8080/"
        }
      },
      "execution_count": 94,
      "outputs": [
        {
          "output_type": "execute_result",
          "data": {
            "text/plain": [
              "tensor([[[0., 0., 0., 0.],\n",
              "         [0., 0., 0., 0.],\n",
              "         [0., 0., 0., 0.]],\n",
              "\n",
              "        [[0., 0., 0., 0.],\n",
              "         [0., 0., 0., 0.],\n",
              "         [0., 0., 0., 0.]]])"
            ]
          },
          "metadata": {},
          "execution_count": 94
        }
      ]
    },
    {
      "cell_type": "code",
      "source": [
        "## Create tensor from numpy\n",
        "\n",
        "my_tensor = torch.tensor(numpy_array)\n",
        "my_tensor"
      ],
      "metadata": {
        "id": "VsOzH45Xrnn5",
        "outputId": "2a84e0c2-053d-4ba7-b309-57cad74fabd4",
        "colab": {
          "base_uri": "https://localhost:8080/"
        }
      },
      "execution_count": 95,
      "outputs": [
        {
          "output_type": "execute_result",
          "data": {
            "text/plain": [
              "tensor([[0.9767, 0.6122, 0.6582, 0.1440],\n",
              "        [0.4048, 0.9532, 0.9170, 0.3721],\n",
              "        [0.2464, 0.2196, 0.3268, 0.4248]], dtype=torch.float64)"
            ]
          },
          "metadata": {},
          "execution_count": 95
        }
      ]
    },
    {
      "cell_type": "markdown",
      "source": [
        "## Tensor operations"
      ],
      "metadata": {
        "id": "yfyIH-2Qsi8f"
      }
    },
    {
      "cell_type": "code",
      "source": [
        "my_torch = torch.arange(10)\n",
        "my_torch"
      ],
      "metadata": {
        "id": "qC9VIFznsmHC",
        "outputId": "6ceb1529-8961-4b92-ef6b-d9d1714f4df6",
        "colab": {
          "base_uri": "https://localhost:8080/"
        }
      },
      "execution_count": 96,
      "outputs": [
        {
          "output_type": "execute_result",
          "data": {
            "text/plain": [
              "tensor([0, 1, 2, 3, 4, 5, 6, 7, 8, 9])"
            ]
          },
          "metadata": {},
          "execution_count": 96
        }
      ]
    },
    {
      "cell_type": "code",
      "source": [
        "# 1. Reshape\n",
        "my_torch = my_torch.reshape(2,5)\n",
        "my_torch"
      ],
      "metadata": {
        "id": "a19QLQvBs39j",
        "outputId": "494e3728-1ce3-47b4-e2c2-eceb3dddf045",
        "colab": {
          "base_uri": "https://localhost:8080/"
        }
      },
      "execution_count": 97,
      "outputs": [
        {
          "output_type": "execute_result",
          "data": {
            "text/plain": [
              "tensor([[0, 1, 2, 3, 4],\n",
              "        [5, 6, 7, 8, 9]])"
            ]
          },
          "metadata": {},
          "execution_count": 97
        }
      ]
    },
    {
      "cell_type": "code",
      "source": [
        "my_torch2 = torch.arange(10)\n",
        "my_torch2 = my_torch2.reshape(-1,2)\n",
        "my_torch2\n"
      ],
      "metadata": {
        "id": "6pqWatLGtFZL",
        "outputId": "b25e7c7f-81ea-47b7-d48e-52dfefefec18",
        "colab": {
          "base_uri": "https://localhost:8080/"
        }
      },
      "execution_count": 98,
      "outputs": [
        {
          "output_type": "execute_result",
          "data": {
            "text/plain": [
              "tensor([[0, 1],\n",
              "        [2, 3],\n",
              "        [4, 5],\n",
              "        [6, 7],\n",
              "        [8, 9]])"
            ]
          },
          "metadata": {},
          "execution_count": 98
        }
      ]
    },
    {
      "cell_type": "code",
      "source": [
        "# 2. View\n",
        "my_torch3 = torch.arange(10)\n",
        "my_torch3 = my_torch3.view(2,5)\n",
        "my_torch3"
      ],
      "metadata": {
        "id": "_PcAwSLtx0NZ",
        "outputId": "d55b3fee-dcaf-44a4-9723-2bde7382c662",
        "colab": {
          "base_uri": "https://localhost:8080/"
        }
      },
      "execution_count": 99,
      "outputs": [
        {
          "output_type": "execute_result",
          "data": {
            "text/plain": [
              "tensor([[0, 1, 2, 3, 4],\n",
              "        [5, 6, 7, 8, 9]])"
            ]
          },
          "metadata": {},
          "execution_count": 99
        }
      ]
    },
    {
      "cell_type": "markdown",
      "source": [
        "### Difference between torch viev and reshape\n",
        "- Torch view creates a view of the original tensor and share same data.\n",
        "- Whereas Torch reshape creates a copy of the orriginal tensor under some conditions resulting in a new tensor with different data."
      ],
      "metadata": {
        "id": "N-ewcQNWyOzX"
      }
    },
    {
      "cell_type": "code",
      "source": [
        "# Both reshape and view, they will both update along our tensor\n",
        "my_tensor4 = torch.arange(10)\n",
        "\n",
        "my_tensor5 = my_tensor4.reshape(2,5)\n",
        "\n",
        "my_tensor6 = my_tensor4.view(2,5)\n"
      ],
      "metadata": {
        "id": "3aEXU2oxyL1A"
      },
      "execution_count": 100,
      "outputs": []
    },
    {
      "cell_type": "code",
      "source": [
        "my_tensor4[0] = 4141\n",
        "\n",
        "print(my_tensor5)\n",
        "print(my_tensor6)\n",
        "\n",
        "# The change in my_tensor4 is reflected in both my_tensor5 and my_tensor6"
      ],
      "metadata": {
        "id": "5snKgYOu01q_",
        "outputId": "fa6c31b1-b6b0-4f9c-b329-9f60d99b40ca",
        "colab": {
          "base_uri": "https://localhost:8080/"
        }
      },
      "execution_count": 101,
      "outputs": [
        {
          "output_type": "stream",
          "name": "stdout",
          "text": [
            "tensor([[4141,    1,    2,    3,    4],\n",
            "        [   5,    6,    7,    8,    9]])\n",
            "tensor([[4141,    1,    2,    3,    4],\n",
            "        [   5,    6,    7,    8,    9]])\n"
          ]
        }
      ]
    },
    {
      "cell_type": "code",
      "source": [
        "# 3. Slices\n",
        "my_torch7 = torch.arange(10)\n",
        "my_torch7"
      ],
      "metadata": {
        "id": "Id7k_m82Cf7g",
        "outputId": "6211bf12-0ece-443c-c831-b1e8d108f386",
        "colab": {
          "base_uri": "https://localhost:8080/"
        }
      },
      "execution_count": 102,
      "outputs": [
        {
          "output_type": "execute_result",
          "data": {
            "text/plain": [
              "tensor([0, 1, 2, 3, 4, 5, 6, 7, 8, 9])"
            ]
          },
          "metadata": {},
          "execution_count": 102
        }
      ]
    },
    {
      "cell_type": "code",
      "source": [
        "my_torch7[7]"
      ],
      "metadata": {
        "id": "-lF0DUa5CpS9",
        "outputId": "475a9c56-5268-41d3-a293-dbfc7efaef63",
        "colab": {
          "base_uri": "https://localhost:8080/"
        }
      },
      "execution_count": 103,
      "outputs": [
        {
          "output_type": "execute_result",
          "data": {
            "text/plain": [
              "tensor(7)"
            ]
          },
          "metadata": {},
          "execution_count": 103
        }
      ]
    },
    {
      "cell_type": "code",
      "source": [
        "my_tensor8 = my_torch7.reshape(5, 2)\n",
        "my_tensor8"
      ],
      "metadata": {
        "id": "PVMAanxiC9un",
        "outputId": "573e58e5-dc7b-4743-eb67-f083fd3837d7",
        "colab": {
          "base_uri": "https://localhost:8080/"
        }
      },
      "execution_count": 104,
      "outputs": [
        {
          "output_type": "execute_result",
          "data": {
            "text/plain": [
              "tensor([[0, 1],\n",
              "        [2, 3],\n",
              "        [4, 5],\n",
              "        [6, 7],\n",
              "        [8, 9]])"
            ]
          },
          "metadata": {},
          "execution_count": 104
        }
      ]
    },
    {
      "cell_type": "code",
      "source": [
        "my_tensor8[:,1:]"
      ],
      "metadata": {
        "id": "lsqN_JZyDXei",
        "outputId": "6e37e6cb-e516-4ee0-ddb1-0f0a594fd7cf",
        "colab": {
          "base_uri": "https://localhost:8080/"
        }
      },
      "execution_count": 105,
      "outputs": [
        {
          "output_type": "execute_result",
          "data": {
            "text/plain": [
              "tensor([[1],\n",
              "        [3],\n",
              "        [5],\n",
              "        [7],\n",
              "        [9]])"
            ]
          },
          "metadata": {},
          "execution_count": 105
        }
      ]
    },
    {
      "cell_type": "code",
      "source": [
        "# 4. Addition\n",
        "\n",
        "tensor_a = torch.tensor([1,2,3,4,5])\n",
        "tensor_b = torch.tensor([6,7,8,9,10])\n",
        "\n",
        "tensor_a + tensor_b\n"
      ],
      "metadata": {
        "id": "q0vXXbFcD_5O",
        "outputId": "5dc712f6-46dd-463d-d648-53694e2f4579",
        "colab": {
          "base_uri": "https://localhost:8080/"
        }
      },
      "execution_count": 106,
      "outputs": [
        {
          "output_type": "execute_result",
          "data": {
            "text/plain": [
              "tensor([ 7,  9, 11, 13, 15])"
            ]
          },
          "metadata": {},
          "execution_count": 106
        }
      ]
    },
    {
      "cell_type": "code",
      "source": [
        "# Addition longhand\n",
        "torch.add(tensor_a, tensor_b)"
      ],
      "metadata": {
        "id": "XLcsmZhVEqg9",
        "outputId": "136afacb-00ac-48c2-9e1f-49c86ba40765",
        "colab": {
          "base_uri": "https://localhost:8080/"
        }
      },
      "execution_count": 107,
      "outputs": [
        {
          "output_type": "execute_result",
          "data": {
            "text/plain": [
              "tensor([ 7,  9, 11, 13, 15])"
            ]
          },
          "metadata": {},
          "execution_count": 107
        }
      ]
    },
    {
      "cell_type": "code",
      "source": [
        "# 5. Subtraction\n",
        "\n",
        "tensor_b - tensor_a"
      ],
      "metadata": {
        "id": "751SlwL0E0Vq",
        "outputId": "fde0ec31-823a-42b4-bea4-dc6f5fea9ca9",
        "colab": {
          "base_uri": "https://localhost:8080/"
        }
      },
      "execution_count": 108,
      "outputs": [
        {
          "output_type": "execute_result",
          "data": {
            "text/plain": [
              "tensor([5, 5, 5, 5, 5])"
            ]
          },
          "metadata": {},
          "execution_count": 108
        }
      ]
    },
    {
      "cell_type": "code",
      "source": [
        "# Subtraction longhand\n",
        "\n",
        "torch.subtract(tensor_b, tensor_a)"
      ],
      "metadata": {
        "id": "ZtWVb45NFAMK",
        "outputId": "7871a855-4337-49e4-ed48-cd2302917ec0",
        "colab": {
          "base_uri": "https://localhost:8080/"
        }
      },
      "execution_count": 109,
      "outputs": [
        {
          "output_type": "execute_result",
          "data": {
            "text/plain": [
              "tensor([5, 5, 5, 5, 5])"
            ]
          },
          "metadata": {},
          "execution_count": 109
        }
      ]
    },
    {
      "cell_type": "code",
      "source": [
        "# 6. Multiplication\n",
        "\n",
        "tensor_a * tensor_b"
      ],
      "metadata": {
        "id": "vF6c-XIhFNi1",
        "outputId": "5aa99ca1-ff60-498d-c920-41c7e9fbd5eb",
        "colab": {
          "base_uri": "https://localhost:8080/"
        }
      },
      "execution_count": 110,
      "outputs": [
        {
          "output_type": "execute_result",
          "data": {
            "text/plain": [
              "tensor([ 6, 14, 24, 36, 50])"
            ]
          },
          "metadata": {},
          "execution_count": 110
        }
      ]
    },
    {
      "cell_type": "code",
      "source": [
        "# Multiplication longhand\n",
        "\n",
        "torch.multiply(tensor_a, tensor_b)"
      ],
      "metadata": {
        "id": "qLYyoN-fFZUp",
        "outputId": "af05da53-266d-430d-f18d-9b6fc3ceef8c",
        "colab": {
          "base_uri": "https://localhost:8080/"
        }
      },
      "execution_count": 111,
      "outputs": [
        {
          "output_type": "execute_result",
          "data": {
            "text/plain": [
              "tensor([ 6, 14, 24, 36, 50])"
            ]
          },
          "metadata": {},
          "execution_count": 111
        }
      ]
    },
    {
      "cell_type": "code",
      "source": [
        "# 7. Division\n",
        "\n",
        "tensor_b / tensor_a"
      ],
      "metadata": {
        "id": "6ZkFnRQXFZWS",
        "outputId": "f92c3cd9-a590-4572-f850-199f2b09d048",
        "colab": {
          "base_uri": "https://localhost:8080/"
        }
      },
      "execution_count": 112,
      "outputs": [
        {
          "output_type": "execute_result",
          "data": {
            "text/plain": [
              "tensor([6.0000, 3.5000, 2.6667, 2.2500, 2.0000])"
            ]
          },
          "metadata": {},
          "execution_count": 112
        }
      ]
    },
    {
      "cell_type": "code",
      "source": [
        "# Division longhand\n",
        "\n",
        "torch.divide(tensor_b, tensor_a) # try torch.div()"
      ],
      "metadata": {
        "id": "LC_ByHU1FusR",
        "outputId": "3e191388-fec6-422a-a7dd-8fbda4fdde87",
        "colab": {
          "base_uri": "https://localhost:8080/"
        }
      },
      "execution_count": 113,
      "outputs": [
        {
          "output_type": "execute_result",
          "data": {
            "text/plain": [
              "tensor([6.0000, 3.5000, 2.6667, 2.2500, 2.0000])"
            ]
          },
          "metadata": {},
          "execution_count": 113
        }
      ]
    },
    {
      "cell_type": "code",
      "source": [
        "# 8. Modulos\n",
        "\n",
        "tensor_b % tensor_a"
      ],
      "metadata": {
        "id": "WUgMABFqGPi1",
        "outputId": "cf39a4a5-ebee-4955-aac1-f4fff3e37cf9",
        "colab": {
          "base_uri": "https://localhost:8080/"
        }
      },
      "execution_count": 114,
      "outputs": [
        {
          "output_type": "execute_result",
          "data": {
            "text/plain": [
              "tensor([0, 1, 2, 1, 0])"
            ]
          },
          "metadata": {},
          "execution_count": 114
        }
      ]
    },
    {
      "cell_type": "code",
      "source": [
        "# Modulus longhand\n",
        "\n",
        "torch.remainder(tensor_b, tensor_a)"
      ],
      "metadata": {
        "id": "iVaLWFYbGwTQ",
        "outputId": "89027ef7-fc70-4d0f-9335-67c40027e657",
        "colab": {
          "base_uri": "https://localhost:8080/"
        }
      },
      "execution_count": 115,
      "outputs": [
        {
          "output_type": "execute_result",
          "data": {
            "text/plain": [
              "tensor([0, 1, 2, 1, 0])"
            ]
          },
          "metadata": {},
          "execution_count": 115
        }
      ]
    },
    {
      "cell_type": "code",
      "source": [
        "# 9. Exponents\n",
        "\n",
        "tensor_a ** tensor_b"
      ],
      "metadata": {
        "id": "ZMCQNcp-G7_o",
        "outputId": "7725c29a-7e3e-4747-8a2d-aaf0a6a809ca",
        "colab": {
          "base_uri": "https://localhost:8080/"
        }
      },
      "execution_count": 116,
      "outputs": [
        {
          "output_type": "execute_result",
          "data": {
            "text/plain": [
              "tensor([      1,     128,    6561,  262144, 9765625])"
            ]
          },
          "metadata": {},
          "execution_count": 116
        }
      ]
    },
    {
      "cell_type": "code",
      "source": [
        "# Exponents longhand\n",
        "\n",
        "torch.pow(tensor_a, tensor_b)"
      ],
      "metadata": {
        "id": "9rteHZedHGnZ",
        "outputId": "bf075164-748c-422b-eb6d-d3f333f429ae",
        "colab": {
          "base_uri": "https://localhost:8080/"
        }
      },
      "execution_count": 117,
      "outputs": [
        {
          "output_type": "execute_result",
          "data": {
            "text/plain": [
              "tensor([      1,     128,    6561,  262144, 9765625])"
            ]
          },
          "metadata": {},
          "execution_count": 117
        }
      ]
    },
    {
      "cell_type": "code",
      "source": [
        "# Note that torch.pow(a, b) = a.pow(b)\n",
        "tensor_a.pow(tensor_b) # same as above"
      ],
      "metadata": {
        "id": "ME7x42rqHZjJ",
        "outputId": "b4820839-b453-470e-e6b8-86e7838da974",
        "colab": {
          "base_uri": "https://localhost:8080/"
        }
      },
      "execution_count": 118,
      "outputs": [
        {
          "output_type": "execute_result",
          "data": {
            "text/plain": [
              "tensor([      1,     128,    6561,  262144, 9765625])"
            ]
          },
          "metadata": {},
          "execution_count": 118
        }
      ]
    },
    {
      "cell_type": "code",
      "source": [
        "# 10. Reassignment\n",
        "\n",
        "tensor_a = tensor_a + tensor_b\n",
        "tensor_a"
      ],
      "metadata": {
        "id": "LUU5Ytu7HzRM",
        "outputId": "da956582-a475-4763-d0b3-811183db77ec",
        "colab": {
          "base_uri": "https://localhost:8080/"
        }
      },
      "execution_count": 119,
      "outputs": [
        {
          "output_type": "execute_result",
          "data": {
            "text/plain": [
              "tensor([ 7,  9, 11, 13, 15])"
            ]
          },
          "metadata": {},
          "execution_count": 119
        }
      ]
    },
    {
      "cell_type": "code",
      "source": [
        "# Reassignmnet Addition longhand\n",
        "\n",
        "tensor_a.add_(tensor_b) # it's the same as tensor_a = tensor_a + tensor_b\n",
        "tensor_a"
      ],
      "metadata": {
        "id": "cmw1_s8bIj_X",
        "outputId": "2c36923f-d93d-4d16-ab7f-de62ec6c8fed",
        "colab": {
          "base_uri": "https://localhost:8080/"
        }
      },
      "execution_count": 120,
      "outputs": [
        {
          "output_type": "execute_result",
          "data": {
            "text/plain": [
              "tensor([13, 16, 19, 22, 25])"
            ]
          },
          "metadata": {},
          "execution_count": 120
        }
      ]
    },
    {
      "cell_type": "markdown",
      "source": [
        "## Create Neural Network"
      ],
      "metadata": {
        "id": "Oh2YVe9aBl_K"
      }
    },
    {
      "cell_type": "code",
      "source": [
        "import torch\n",
        "import torch.nn as nn\n",
        "import torch.nn.functional as F"
      ],
      "metadata": {
        "id": "olBfk2rxCtrp"
      },
      "execution_count": 121,
      "outputs": []
    },
    {
      "cell_type": "code",
      "source": [
        "# Create a Model Class that inherit nn.Module\n",
        "\n",
        "# 1. Input with 4 feactures of flowers\n",
        "# 2. Hidden layer 1\n",
        "# 3. Hidden layer 2\n",
        "# 4. Output with 3 classes\n",
        "class Model(nn.Module):\n",
        "  def __init__(self, in_feactures=4, h1=8, h2=9, out_features=3):\n",
        "    super().__init__()\n",
        "    self.fc1 = nn.Linear(in_feactures, h1)\n",
        "    self.fc2 = nn.Linear(h1, h2)\n",
        "    self.out = nn.Linear(h2, out_features)\n",
        "\n",
        "  def forward(self, x):\n",
        "    x = F.relu(self.fc1(x))\n",
        "    x = F.relu(self.fc2(x))\n",
        "    x = self.out(x)\n",
        "    return x"
      ],
      "metadata": {
        "id": "grlbJJasC30o"
      },
      "execution_count": 122,
      "outputs": []
    },
    {
      "cell_type": "code",
      "source": [
        "\n",
        "# Create an instant of model\n",
        "model = Model()"
      ],
      "metadata": {
        "id": "hzv0TCWUDWxA"
      },
      "execution_count": 123,
      "outputs": []
    },
    {
      "cell_type": "code",
      "source": [
        "import pandas as pd\n",
        "import matplotlib.pyplot as plt\n",
        "%matplotlib inline"
      ],
      "metadata": {
        "id": "Bt225KtNFlQj"
      },
      "execution_count": 124,
      "outputs": []
    },
    {
      "cell_type": "code",
      "source": [
        "url = 'https://gist.githubusercontent.com/curran/a08a1080b88344b0c8a7/raw/0e7a9b0a5d22642a06d3d5b9bcbad9890c8ee534/iris.csv'\n",
        "my_df = pd.read_csv(url)\n",
        "my_df.tail()"
      ],
      "metadata": {
        "id": "2JGas7g2GPLT",
        "outputId": "2f6424fe-b693-4fd5-9bdc-000f034d7268",
        "colab": {
          "base_uri": "https://localhost:8080/",
          "height": 206
        }
      },
      "execution_count": 125,
      "outputs": [
        {
          "output_type": "execute_result",
          "data": {
            "text/plain": [
              "     sepal_length  sepal_width  petal_length  petal_width    species\n",
              "145           6.7          3.0           5.2          2.3  virginica\n",
              "146           6.3          2.5           5.0          1.9  virginica\n",
              "147           6.5          3.0           5.2          2.0  virginica\n",
              "148           6.2          3.4           5.4          2.3  virginica\n",
              "149           5.9          3.0           5.1          1.8  virginica"
            ],
            "text/html": [
              "\n",
              "  <div id=\"df-24f17ca2-5acd-441d-914c-265fa41eee0f\" class=\"colab-df-container\">\n",
              "    <div>\n",
              "<style scoped>\n",
              "    .dataframe tbody tr th:only-of-type {\n",
              "        vertical-align: middle;\n",
              "    }\n",
              "\n",
              "    .dataframe tbody tr th {\n",
              "        vertical-align: top;\n",
              "    }\n",
              "\n",
              "    .dataframe thead th {\n",
              "        text-align: right;\n",
              "    }\n",
              "</style>\n",
              "<table border=\"1\" class=\"dataframe\">\n",
              "  <thead>\n",
              "    <tr style=\"text-align: right;\">\n",
              "      <th></th>\n",
              "      <th>sepal_length</th>\n",
              "      <th>sepal_width</th>\n",
              "      <th>petal_length</th>\n",
              "      <th>petal_width</th>\n",
              "      <th>species</th>\n",
              "    </tr>\n",
              "  </thead>\n",
              "  <tbody>\n",
              "    <tr>\n",
              "      <th>145</th>\n",
              "      <td>6.7</td>\n",
              "      <td>3.0</td>\n",
              "      <td>5.2</td>\n",
              "      <td>2.3</td>\n",
              "      <td>virginica</td>\n",
              "    </tr>\n",
              "    <tr>\n",
              "      <th>146</th>\n",
              "      <td>6.3</td>\n",
              "      <td>2.5</td>\n",
              "      <td>5.0</td>\n",
              "      <td>1.9</td>\n",
              "      <td>virginica</td>\n",
              "    </tr>\n",
              "    <tr>\n",
              "      <th>147</th>\n",
              "      <td>6.5</td>\n",
              "      <td>3.0</td>\n",
              "      <td>5.2</td>\n",
              "      <td>2.0</td>\n",
              "      <td>virginica</td>\n",
              "    </tr>\n",
              "    <tr>\n",
              "      <th>148</th>\n",
              "      <td>6.2</td>\n",
              "      <td>3.4</td>\n",
              "      <td>5.4</td>\n",
              "      <td>2.3</td>\n",
              "      <td>virginica</td>\n",
              "    </tr>\n",
              "    <tr>\n",
              "      <th>149</th>\n",
              "      <td>5.9</td>\n",
              "      <td>3.0</td>\n",
              "      <td>5.1</td>\n",
              "      <td>1.8</td>\n",
              "      <td>virginica</td>\n",
              "    </tr>\n",
              "  </tbody>\n",
              "</table>\n",
              "</div>\n",
              "    <div class=\"colab-df-buttons\">\n",
              "\n",
              "  <div class=\"colab-df-container\">\n",
              "    <button class=\"colab-df-convert\" onclick=\"convertToInteractive('df-24f17ca2-5acd-441d-914c-265fa41eee0f')\"\n",
              "            title=\"Convert this dataframe to an interactive table.\"\n",
              "            style=\"display:none;\">\n",
              "\n",
              "  <svg xmlns=\"http://www.w3.org/2000/svg\" height=\"24px\" viewBox=\"0 -960 960 960\">\n",
              "    <path d=\"M120-120v-720h720v720H120Zm60-500h600v-160H180v160Zm220 220h160v-160H400v160Zm0 220h160v-160H400v160ZM180-400h160v-160H180v160Zm440 0h160v-160H620v160ZM180-180h160v-160H180v160Zm440 0h160v-160H620v160Z\"/>\n",
              "  </svg>\n",
              "    </button>\n",
              "\n",
              "  <style>\n",
              "    .colab-df-container {\n",
              "      display:flex;\n",
              "      gap: 12px;\n",
              "    }\n",
              "\n",
              "    .colab-df-convert {\n",
              "      background-color: #E8F0FE;\n",
              "      border: none;\n",
              "      border-radius: 50%;\n",
              "      cursor: pointer;\n",
              "      display: none;\n",
              "      fill: #1967D2;\n",
              "      height: 32px;\n",
              "      padding: 0 0 0 0;\n",
              "      width: 32px;\n",
              "    }\n",
              "\n",
              "    .colab-df-convert:hover {\n",
              "      background-color: #E2EBFA;\n",
              "      box-shadow: 0px 1px 2px rgba(60, 64, 67, 0.3), 0px 1px 3px 1px rgba(60, 64, 67, 0.15);\n",
              "      fill: #174EA6;\n",
              "    }\n",
              "\n",
              "    .colab-df-buttons div {\n",
              "      margin-bottom: 4px;\n",
              "    }\n",
              "\n",
              "    [theme=dark] .colab-df-convert {\n",
              "      background-color: #3B4455;\n",
              "      fill: #D2E3FC;\n",
              "    }\n",
              "\n",
              "    [theme=dark] .colab-df-convert:hover {\n",
              "      background-color: #434B5C;\n",
              "      box-shadow: 0px 1px 3px 1px rgba(0, 0, 0, 0.15);\n",
              "      filter: drop-shadow(0px 1px 2px rgba(0, 0, 0, 0.3));\n",
              "      fill: #FFFFFF;\n",
              "    }\n",
              "  </style>\n",
              "\n",
              "    <script>\n",
              "      const buttonEl =\n",
              "        document.querySelector('#df-24f17ca2-5acd-441d-914c-265fa41eee0f button.colab-df-convert');\n",
              "      buttonEl.style.display =\n",
              "        google.colab.kernel.accessAllowed ? 'block' : 'none';\n",
              "\n",
              "      async function convertToInteractive(key) {\n",
              "        const element = document.querySelector('#df-24f17ca2-5acd-441d-914c-265fa41eee0f');\n",
              "        const dataTable =\n",
              "          await google.colab.kernel.invokeFunction('convertToInteractive',\n",
              "                                                    [key], {});\n",
              "        if (!dataTable) return;\n",
              "\n",
              "        const docLinkHtml = 'Like what you see? Visit the ' +\n",
              "          '<a target=\"_blank\" href=https://colab.research.google.com/notebooks/data_table.ipynb>data table notebook</a>'\n",
              "          + ' to learn more about interactive tables.';\n",
              "        element.innerHTML = '';\n",
              "        dataTable['output_type'] = 'display_data';\n",
              "        await google.colab.output.renderOutput(dataTable, element);\n",
              "        const docLink = document.createElement('div');\n",
              "        docLink.innerHTML = docLinkHtml;\n",
              "        element.appendChild(docLink);\n",
              "      }\n",
              "    </script>\n",
              "  </div>\n",
              "\n",
              "\n",
              "<div id=\"df-5aa44193-cb9f-4d1e-b5d5-cdccc1992fb1\">\n",
              "  <button class=\"colab-df-quickchart\" onclick=\"quickchart('df-5aa44193-cb9f-4d1e-b5d5-cdccc1992fb1')\"\n",
              "            title=\"Suggest charts\"\n",
              "            style=\"display:none;\">\n",
              "\n",
              "<svg xmlns=\"http://www.w3.org/2000/svg\" height=\"24px\"viewBox=\"0 0 24 24\"\n",
              "     width=\"24px\">\n",
              "    <g>\n",
              "        <path d=\"M19 3H5c-1.1 0-2 .9-2 2v14c0 1.1.9 2 2 2h14c1.1 0 2-.9 2-2V5c0-1.1-.9-2-2-2zM9 17H7v-7h2v7zm4 0h-2V7h2v10zm4 0h-2v-4h2v4z\"/>\n",
              "    </g>\n",
              "</svg>\n",
              "  </button>\n",
              "\n",
              "<style>\n",
              "  .colab-df-quickchart {\n",
              "      --bg-color: #E8F0FE;\n",
              "      --fill-color: #1967D2;\n",
              "      --hover-bg-color: #E2EBFA;\n",
              "      --hover-fill-color: #174EA6;\n",
              "      --disabled-fill-color: #AAA;\n",
              "      --disabled-bg-color: #DDD;\n",
              "  }\n",
              "\n",
              "  [theme=dark] .colab-df-quickchart {\n",
              "      --bg-color: #3B4455;\n",
              "      --fill-color: #D2E3FC;\n",
              "      --hover-bg-color: #434B5C;\n",
              "      --hover-fill-color: #FFFFFF;\n",
              "      --disabled-bg-color: #3B4455;\n",
              "      --disabled-fill-color: #666;\n",
              "  }\n",
              "\n",
              "  .colab-df-quickchart {\n",
              "    background-color: var(--bg-color);\n",
              "    border: none;\n",
              "    border-radius: 50%;\n",
              "    cursor: pointer;\n",
              "    display: none;\n",
              "    fill: var(--fill-color);\n",
              "    height: 32px;\n",
              "    padding: 0;\n",
              "    width: 32px;\n",
              "  }\n",
              "\n",
              "  .colab-df-quickchart:hover {\n",
              "    background-color: var(--hover-bg-color);\n",
              "    box-shadow: 0 1px 2px rgba(60, 64, 67, 0.3), 0 1px 3px 1px rgba(60, 64, 67, 0.15);\n",
              "    fill: var(--button-hover-fill-color);\n",
              "  }\n",
              "\n",
              "  .colab-df-quickchart-complete:disabled,\n",
              "  .colab-df-quickchart-complete:disabled:hover {\n",
              "    background-color: var(--disabled-bg-color);\n",
              "    fill: var(--disabled-fill-color);\n",
              "    box-shadow: none;\n",
              "  }\n",
              "\n",
              "  .colab-df-spinner {\n",
              "    border: 2px solid var(--fill-color);\n",
              "    border-color: transparent;\n",
              "    border-bottom-color: var(--fill-color);\n",
              "    animation:\n",
              "      spin 1s steps(1) infinite;\n",
              "  }\n",
              "\n",
              "  @keyframes spin {\n",
              "    0% {\n",
              "      border-color: transparent;\n",
              "      border-bottom-color: var(--fill-color);\n",
              "      border-left-color: var(--fill-color);\n",
              "    }\n",
              "    20% {\n",
              "      border-color: transparent;\n",
              "      border-left-color: var(--fill-color);\n",
              "      border-top-color: var(--fill-color);\n",
              "    }\n",
              "    30% {\n",
              "      border-color: transparent;\n",
              "      border-left-color: var(--fill-color);\n",
              "      border-top-color: var(--fill-color);\n",
              "      border-right-color: var(--fill-color);\n",
              "    }\n",
              "    40% {\n",
              "      border-color: transparent;\n",
              "      border-right-color: var(--fill-color);\n",
              "      border-top-color: var(--fill-color);\n",
              "    }\n",
              "    60% {\n",
              "      border-color: transparent;\n",
              "      border-right-color: var(--fill-color);\n",
              "    }\n",
              "    80% {\n",
              "      border-color: transparent;\n",
              "      border-right-color: var(--fill-color);\n",
              "      border-bottom-color: var(--fill-color);\n",
              "    }\n",
              "    90% {\n",
              "      border-color: transparent;\n",
              "      border-bottom-color: var(--fill-color);\n",
              "    }\n",
              "  }\n",
              "</style>\n",
              "\n",
              "  <script>\n",
              "    async function quickchart(key) {\n",
              "      const quickchartButtonEl =\n",
              "        document.querySelector('#' + key + ' button');\n",
              "      quickchartButtonEl.disabled = true;  // To prevent multiple clicks.\n",
              "      quickchartButtonEl.classList.add('colab-df-spinner');\n",
              "      try {\n",
              "        const charts = await google.colab.kernel.invokeFunction(\n",
              "            'suggestCharts', [key], {});\n",
              "      } catch (error) {\n",
              "        console.error('Error during call to suggestCharts:', error);\n",
              "      }\n",
              "      quickchartButtonEl.classList.remove('colab-df-spinner');\n",
              "      quickchartButtonEl.classList.add('colab-df-quickchart-complete');\n",
              "    }\n",
              "    (() => {\n",
              "      let quickchartButtonEl =\n",
              "        document.querySelector('#df-5aa44193-cb9f-4d1e-b5d5-cdccc1992fb1 button');\n",
              "      quickchartButtonEl.style.display =\n",
              "        google.colab.kernel.accessAllowed ? 'block' : 'none';\n",
              "    })();\n",
              "  </script>\n",
              "</div>\n",
              "\n",
              "    </div>\n",
              "  </div>\n"
            ],
            "application/vnd.google.colaboratory.intrinsic+json": {
              "type": "dataframe",
              "summary": "{\n  \"name\": \"my_df\",\n  \"rows\": 5,\n  \"fields\": [\n    {\n      \"column\": \"sepal_length\",\n      \"properties\": {\n        \"dtype\": \"number\",\n        \"std\": 0.30331501776206193,\n        \"min\": 5.9,\n        \"max\": 6.7,\n        \"num_unique_values\": 5,\n        \"samples\": [\n          6.3,\n          5.9,\n          6.5\n        ],\n        \"semantic_type\": \"\",\n        \"description\": \"\"\n      }\n    },\n    {\n      \"column\": \"sepal_width\",\n      \"properties\": {\n        \"dtype\": \"number\",\n        \"std\": 0.31937438845342625,\n        \"min\": 2.5,\n        \"max\": 3.4,\n        \"num_unique_values\": 3,\n        \"samples\": [\n          3.0,\n          2.5,\n          3.4\n        ],\n        \"semantic_type\": \"\",\n        \"description\": \"\"\n      }\n    },\n    {\n      \"column\": \"petal_length\",\n      \"properties\": {\n        \"dtype\": \"number\",\n        \"std\": 0.14832396974191348,\n        \"min\": 5.0,\n        \"max\": 5.4,\n        \"num_unique_values\": 4,\n        \"samples\": [\n          5.0,\n          5.1,\n          5.2\n        ],\n        \"semantic_type\": \"\",\n        \"description\": \"\"\n      }\n    },\n    {\n      \"column\": \"petal_width\",\n      \"properties\": {\n        \"dtype\": \"number\",\n        \"std\": 0.23021728866442667,\n        \"min\": 1.8,\n        \"max\": 2.3,\n        \"num_unique_values\": 4,\n        \"samples\": [\n          1.9,\n          1.8,\n          2.3\n        ],\n        \"semantic_type\": \"\",\n        \"description\": \"\"\n      }\n    },\n    {\n      \"column\": \"species\",\n      \"properties\": {\n        \"dtype\": \"category\",\n        \"num_unique_values\": 1,\n        \"samples\": [\n          \"virginica\"\n        ],\n        \"semantic_type\": \"\",\n        \"description\": \"\"\n      }\n    }\n  ]\n}"
            }
          },
          "metadata": {},
          "execution_count": 125
        }
      ]
    },
    {
      "cell_type": "code",
      "source": [
        "# Encode 'species' column from str to number\n",
        "my_df['species'] = my_df['species'].replace('setosa', 0)\n",
        "my_df['species'] = my_df['species'].replace('versicolor', 1)\n",
        "my_df['species'] = my_df['species'].replace('virginica', 2)\n",
        "my_df.tail()"
      ],
      "metadata": {
        "id": "vtSXbAUcGxd5",
        "outputId": "761b761a-c5fd-4863-b5a1-0e995fc25b15",
        "colab": {
          "base_uri": "https://localhost:8080/",
          "height": 206
        }
      },
      "execution_count": 126,
      "outputs": [
        {
          "output_type": "execute_result",
          "data": {
            "text/plain": [
              "     sepal_length  sepal_width  petal_length  petal_width  species\n",
              "145           6.7          3.0           5.2          2.3        2\n",
              "146           6.3          2.5           5.0          1.9        2\n",
              "147           6.5          3.0           5.2          2.0        2\n",
              "148           6.2          3.4           5.4          2.3        2\n",
              "149           5.9          3.0           5.1          1.8        2"
            ],
            "text/html": [
              "\n",
              "  <div id=\"df-1319661d-2e0f-4742-8f79-dedae9bd4a64\" class=\"colab-df-container\">\n",
              "    <div>\n",
              "<style scoped>\n",
              "    .dataframe tbody tr th:only-of-type {\n",
              "        vertical-align: middle;\n",
              "    }\n",
              "\n",
              "    .dataframe tbody tr th {\n",
              "        vertical-align: top;\n",
              "    }\n",
              "\n",
              "    .dataframe thead th {\n",
              "        text-align: right;\n",
              "    }\n",
              "</style>\n",
              "<table border=\"1\" class=\"dataframe\">\n",
              "  <thead>\n",
              "    <tr style=\"text-align: right;\">\n",
              "      <th></th>\n",
              "      <th>sepal_length</th>\n",
              "      <th>sepal_width</th>\n",
              "      <th>petal_length</th>\n",
              "      <th>petal_width</th>\n",
              "      <th>species</th>\n",
              "    </tr>\n",
              "  </thead>\n",
              "  <tbody>\n",
              "    <tr>\n",
              "      <th>145</th>\n",
              "      <td>6.7</td>\n",
              "      <td>3.0</td>\n",
              "      <td>5.2</td>\n",
              "      <td>2.3</td>\n",
              "      <td>2</td>\n",
              "    </tr>\n",
              "    <tr>\n",
              "      <th>146</th>\n",
              "      <td>6.3</td>\n",
              "      <td>2.5</td>\n",
              "      <td>5.0</td>\n",
              "      <td>1.9</td>\n",
              "      <td>2</td>\n",
              "    </tr>\n",
              "    <tr>\n",
              "      <th>147</th>\n",
              "      <td>6.5</td>\n",
              "      <td>3.0</td>\n",
              "      <td>5.2</td>\n",
              "      <td>2.0</td>\n",
              "      <td>2</td>\n",
              "    </tr>\n",
              "    <tr>\n",
              "      <th>148</th>\n",
              "      <td>6.2</td>\n",
              "      <td>3.4</td>\n",
              "      <td>5.4</td>\n",
              "      <td>2.3</td>\n",
              "      <td>2</td>\n",
              "    </tr>\n",
              "    <tr>\n",
              "      <th>149</th>\n",
              "      <td>5.9</td>\n",
              "      <td>3.0</td>\n",
              "      <td>5.1</td>\n",
              "      <td>1.8</td>\n",
              "      <td>2</td>\n",
              "    </tr>\n",
              "  </tbody>\n",
              "</table>\n",
              "</div>\n",
              "    <div class=\"colab-df-buttons\">\n",
              "\n",
              "  <div class=\"colab-df-container\">\n",
              "    <button class=\"colab-df-convert\" onclick=\"convertToInteractive('df-1319661d-2e0f-4742-8f79-dedae9bd4a64')\"\n",
              "            title=\"Convert this dataframe to an interactive table.\"\n",
              "            style=\"display:none;\">\n",
              "\n",
              "  <svg xmlns=\"http://www.w3.org/2000/svg\" height=\"24px\" viewBox=\"0 -960 960 960\">\n",
              "    <path d=\"M120-120v-720h720v720H120Zm60-500h600v-160H180v160Zm220 220h160v-160H400v160Zm0 220h160v-160H400v160ZM180-400h160v-160H180v160Zm440 0h160v-160H620v160ZM180-180h160v-160H180v160Zm440 0h160v-160H620v160Z\"/>\n",
              "  </svg>\n",
              "    </button>\n",
              "\n",
              "  <style>\n",
              "    .colab-df-container {\n",
              "      display:flex;\n",
              "      gap: 12px;\n",
              "    }\n",
              "\n",
              "    .colab-df-convert {\n",
              "      background-color: #E8F0FE;\n",
              "      border: none;\n",
              "      border-radius: 50%;\n",
              "      cursor: pointer;\n",
              "      display: none;\n",
              "      fill: #1967D2;\n",
              "      height: 32px;\n",
              "      padding: 0 0 0 0;\n",
              "      width: 32px;\n",
              "    }\n",
              "\n",
              "    .colab-df-convert:hover {\n",
              "      background-color: #E2EBFA;\n",
              "      box-shadow: 0px 1px 2px rgba(60, 64, 67, 0.3), 0px 1px 3px 1px rgba(60, 64, 67, 0.15);\n",
              "      fill: #174EA6;\n",
              "    }\n",
              "\n",
              "    .colab-df-buttons div {\n",
              "      margin-bottom: 4px;\n",
              "    }\n",
              "\n",
              "    [theme=dark] .colab-df-convert {\n",
              "      background-color: #3B4455;\n",
              "      fill: #D2E3FC;\n",
              "    }\n",
              "\n",
              "    [theme=dark] .colab-df-convert:hover {\n",
              "      background-color: #434B5C;\n",
              "      box-shadow: 0px 1px 3px 1px rgba(0, 0, 0, 0.15);\n",
              "      filter: drop-shadow(0px 1px 2px rgba(0, 0, 0, 0.3));\n",
              "      fill: #FFFFFF;\n",
              "    }\n",
              "  </style>\n",
              "\n",
              "    <script>\n",
              "      const buttonEl =\n",
              "        document.querySelector('#df-1319661d-2e0f-4742-8f79-dedae9bd4a64 button.colab-df-convert');\n",
              "      buttonEl.style.display =\n",
              "        google.colab.kernel.accessAllowed ? 'block' : 'none';\n",
              "\n",
              "      async function convertToInteractive(key) {\n",
              "        const element = document.querySelector('#df-1319661d-2e0f-4742-8f79-dedae9bd4a64');\n",
              "        const dataTable =\n",
              "          await google.colab.kernel.invokeFunction('convertToInteractive',\n",
              "                                                    [key], {});\n",
              "        if (!dataTable) return;\n",
              "\n",
              "        const docLinkHtml = 'Like what you see? Visit the ' +\n",
              "          '<a target=\"_blank\" href=https://colab.research.google.com/notebooks/data_table.ipynb>data table notebook</a>'\n",
              "          + ' to learn more about interactive tables.';\n",
              "        element.innerHTML = '';\n",
              "        dataTable['output_type'] = 'display_data';\n",
              "        await google.colab.output.renderOutput(dataTable, element);\n",
              "        const docLink = document.createElement('div');\n",
              "        docLink.innerHTML = docLinkHtml;\n",
              "        element.appendChild(docLink);\n",
              "      }\n",
              "    </script>\n",
              "  </div>\n",
              "\n",
              "\n",
              "<div id=\"df-a303310f-e260-4047-970a-f7bc916a89ab\">\n",
              "  <button class=\"colab-df-quickchart\" onclick=\"quickchart('df-a303310f-e260-4047-970a-f7bc916a89ab')\"\n",
              "            title=\"Suggest charts\"\n",
              "            style=\"display:none;\">\n",
              "\n",
              "<svg xmlns=\"http://www.w3.org/2000/svg\" height=\"24px\"viewBox=\"0 0 24 24\"\n",
              "     width=\"24px\">\n",
              "    <g>\n",
              "        <path d=\"M19 3H5c-1.1 0-2 .9-2 2v14c0 1.1.9 2 2 2h14c1.1 0 2-.9 2-2V5c0-1.1-.9-2-2-2zM9 17H7v-7h2v7zm4 0h-2V7h2v10zm4 0h-2v-4h2v4z\"/>\n",
              "    </g>\n",
              "</svg>\n",
              "  </button>\n",
              "\n",
              "<style>\n",
              "  .colab-df-quickchart {\n",
              "      --bg-color: #E8F0FE;\n",
              "      --fill-color: #1967D2;\n",
              "      --hover-bg-color: #E2EBFA;\n",
              "      --hover-fill-color: #174EA6;\n",
              "      --disabled-fill-color: #AAA;\n",
              "      --disabled-bg-color: #DDD;\n",
              "  }\n",
              "\n",
              "  [theme=dark] .colab-df-quickchart {\n",
              "      --bg-color: #3B4455;\n",
              "      --fill-color: #D2E3FC;\n",
              "      --hover-bg-color: #434B5C;\n",
              "      --hover-fill-color: #FFFFFF;\n",
              "      --disabled-bg-color: #3B4455;\n",
              "      --disabled-fill-color: #666;\n",
              "  }\n",
              "\n",
              "  .colab-df-quickchart {\n",
              "    background-color: var(--bg-color);\n",
              "    border: none;\n",
              "    border-radius: 50%;\n",
              "    cursor: pointer;\n",
              "    display: none;\n",
              "    fill: var(--fill-color);\n",
              "    height: 32px;\n",
              "    padding: 0;\n",
              "    width: 32px;\n",
              "  }\n",
              "\n",
              "  .colab-df-quickchart:hover {\n",
              "    background-color: var(--hover-bg-color);\n",
              "    box-shadow: 0 1px 2px rgba(60, 64, 67, 0.3), 0 1px 3px 1px rgba(60, 64, 67, 0.15);\n",
              "    fill: var(--button-hover-fill-color);\n",
              "  }\n",
              "\n",
              "  .colab-df-quickchart-complete:disabled,\n",
              "  .colab-df-quickchart-complete:disabled:hover {\n",
              "    background-color: var(--disabled-bg-color);\n",
              "    fill: var(--disabled-fill-color);\n",
              "    box-shadow: none;\n",
              "  }\n",
              "\n",
              "  .colab-df-spinner {\n",
              "    border: 2px solid var(--fill-color);\n",
              "    border-color: transparent;\n",
              "    border-bottom-color: var(--fill-color);\n",
              "    animation:\n",
              "      spin 1s steps(1) infinite;\n",
              "  }\n",
              "\n",
              "  @keyframes spin {\n",
              "    0% {\n",
              "      border-color: transparent;\n",
              "      border-bottom-color: var(--fill-color);\n",
              "      border-left-color: var(--fill-color);\n",
              "    }\n",
              "    20% {\n",
              "      border-color: transparent;\n",
              "      border-left-color: var(--fill-color);\n",
              "      border-top-color: var(--fill-color);\n",
              "    }\n",
              "    30% {\n",
              "      border-color: transparent;\n",
              "      border-left-color: var(--fill-color);\n",
              "      border-top-color: var(--fill-color);\n",
              "      border-right-color: var(--fill-color);\n",
              "    }\n",
              "    40% {\n",
              "      border-color: transparent;\n",
              "      border-right-color: var(--fill-color);\n",
              "      border-top-color: var(--fill-color);\n",
              "    }\n",
              "    60% {\n",
              "      border-color: transparent;\n",
              "      border-right-color: var(--fill-color);\n",
              "    }\n",
              "    80% {\n",
              "      border-color: transparent;\n",
              "      border-right-color: var(--fill-color);\n",
              "      border-bottom-color: var(--fill-color);\n",
              "    }\n",
              "    90% {\n",
              "      border-color: transparent;\n",
              "      border-bottom-color: var(--fill-color);\n",
              "    }\n",
              "  }\n",
              "</style>\n",
              "\n",
              "  <script>\n",
              "    async function quickchart(key) {\n",
              "      const quickchartButtonEl =\n",
              "        document.querySelector('#' + key + ' button');\n",
              "      quickchartButtonEl.disabled = true;  // To prevent multiple clicks.\n",
              "      quickchartButtonEl.classList.add('colab-df-spinner');\n",
              "      try {\n",
              "        const charts = await google.colab.kernel.invokeFunction(\n",
              "            'suggestCharts', [key], {});\n",
              "      } catch (error) {\n",
              "        console.error('Error during call to suggestCharts:', error);\n",
              "      }\n",
              "      quickchartButtonEl.classList.remove('colab-df-spinner');\n",
              "      quickchartButtonEl.classList.add('colab-df-quickchart-complete');\n",
              "    }\n",
              "    (() => {\n",
              "      let quickchartButtonEl =\n",
              "        document.querySelector('#df-a303310f-e260-4047-970a-f7bc916a89ab button');\n",
              "      quickchartButtonEl.style.display =\n",
              "        google.colab.kernel.accessAllowed ? 'block' : 'none';\n",
              "    })();\n",
              "  </script>\n",
              "</div>\n",
              "\n",
              "    </div>\n",
              "  </div>\n"
            ],
            "application/vnd.google.colaboratory.intrinsic+json": {
              "type": "dataframe",
              "summary": "{\n  \"name\": \"my_df\",\n  \"rows\": 5,\n  \"fields\": [\n    {\n      \"column\": \"sepal_length\",\n      \"properties\": {\n        \"dtype\": \"number\",\n        \"std\": 0.30331501776206193,\n        \"min\": 5.9,\n        \"max\": 6.7,\n        \"num_unique_values\": 5,\n        \"samples\": [\n          6.3,\n          5.9,\n          6.5\n        ],\n        \"semantic_type\": \"\",\n        \"description\": \"\"\n      }\n    },\n    {\n      \"column\": \"sepal_width\",\n      \"properties\": {\n        \"dtype\": \"number\",\n        \"std\": 0.31937438845342625,\n        \"min\": 2.5,\n        \"max\": 3.4,\n        \"num_unique_values\": 3,\n        \"samples\": [\n          3.0,\n          2.5,\n          3.4\n        ],\n        \"semantic_type\": \"\",\n        \"description\": \"\"\n      }\n    },\n    {\n      \"column\": \"petal_length\",\n      \"properties\": {\n        \"dtype\": \"number\",\n        \"std\": 0.14832396974191348,\n        \"min\": 5.0,\n        \"max\": 5.4,\n        \"num_unique_values\": 4,\n        \"samples\": [\n          5.0,\n          5.1,\n          5.2\n        ],\n        \"semantic_type\": \"\",\n        \"description\": \"\"\n      }\n    },\n    {\n      \"column\": \"petal_width\",\n      \"properties\": {\n        \"dtype\": \"number\",\n        \"std\": 0.23021728866442667,\n        \"min\": 1.8,\n        \"max\": 2.3,\n        \"num_unique_values\": 4,\n        \"samples\": [\n          1.9,\n          1.8,\n          2.3\n        ],\n        \"semantic_type\": \"\",\n        \"description\": \"\"\n      }\n    },\n    {\n      \"column\": \"species\",\n      \"properties\": {\n        \"dtype\": \"number\",\n        \"std\": 0,\n        \"min\": 2,\n        \"max\": 2,\n        \"num_unique_values\": 1,\n        \"samples\": [\n          2\n        ],\n        \"semantic_type\": \"\",\n        \"description\": \"\"\n      }\n    }\n  ]\n}"
            }
          },
          "metadata": {},
          "execution_count": 126
        }
      ]
    },
    {
      "cell_type": "code",
      "source": [
        "# Train Test Split! Set X, Y\n",
        "x = my_df.drop('species', axis=1).values\n",
        "y = my_df['species'].values"
      ],
      "metadata": {
        "id": "ve4JPDW9HaBK"
      },
      "execution_count": 127,
      "outputs": []
    },
    {
      "cell_type": "code",
      "source": [
        "from sklearn.model_selection import train_test_split\n"
      ],
      "metadata": {
        "id": "YUxRdjdYH75d"
      },
      "execution_count": 128,
      "outputs": []
    },
    {
      "cell_type": "code",
      "source": [
        "x_train, x_test, y_train, y_test = train_test_split(x, y, test_size=0.2)"
      ],
      "metadata": {
        "id": "cncNXa4pIAdp"
      },
      "execution_count": 129,
      "outputs": []
    },
    {
      "cell_type": "code",
      "source": [
        "# Convert x feacture to float tensors\n",
        "X_train = torch.FloatTensor(x_train)\n",
        "X_test = torch.FloatTensor(x_test)"
      ],
      "metadata": {
        "id": "Mu7AgJhPIQP7"
      },
      "execution_count": 130,
      "outputs": []
    },
    {
      "cell_type": "code",
      "source": [
        "# Convert y labels to long tensors\n",
        "Y_train = torch.LongTensor(y_train)\n",
        "Y_test = torch.LongTensor(y_test)"
      ],
      "metadata": {
        "id": "gdD42JShIk8N"
      },
      "execution_count": 131,
      "outputs": []
    },
    {
      "cell_type": "code",
      "source": [
        "# Set loss function\n",
        "criterion = nn.CrossEntropyLoss()\n",
        "\n",
        "# Choose Adam Optimizer, learning rate\n",
        "optimizer = torch.optim.Adam(model.parameters(), lr=0.01)\n"
      ],
      "metadata": {
        "id": "3LT7SDrUJlvb"
      },
      "execution_count": 132,
      "outputs": []
    },
    {
      "cell_type": "code",
      "source": [
        "# Train our model\n",
        "epochs = 100\n",
        "losses = []\n",
        "\n",
        "for i in range(epochs):\n",
        "  # Goo foward and get model predictions\n",
        "  y_pred = model.forward(X_train)\n",
        "\n",
        "  # Measure loss between y_pred and y train\n",
        "  loss = criterion(y_pred, Y_train)\n",
        "  losses.append(loss.detach().numpy())\n",
        "\n",
        "  # Print every 10th epoch\n",
        "  if i % 10 == 0:\n",
        "    print(f'Epoch: {i} and loss: {loss}')\n",
        "\n",
        "  # Backpropagation\n",
        "  optimizer.zero_grad()\n",
        "  loss.backward()\n",
        "  optimizer.step()"
      ],
      "metadata": {
        "id": "hj1M57F6KW4y",
        "outputId": "4110ce8b-33bf-4dab-9051-fb71375053d5",
        "colab": {
          "base_uri": "https://localhost:8080/"
        }
      },
      "execution_count": 133,
      "outputs": [
        {
          "output_type": "stream",
          "name": "stdout",
          "text": [
            "Epoch: 0 and loss: 1.1095807552337646\n",
            "Epoch: 10 and loss: 0.8791354298591614\n",
            "Epoch: 20 and loss: 0.5601302981376648\n",
            "Epoch: 30 and loss: 0.39333468675613403\n",
            "Epoch: 40 and loss: 0.30589112639427185\n",
            "Epoch: 50 and loss: 0.21366506814956665\n",
            "Epoch: 60 and loss: 0.13644348084926605\n",
            "Epoch: 70 and loss: 0.09332921355962753\n",
            "Epoch: 80 and loss: 0.07317502051591873\n",
            "Epoch: 90 and loss: 0.063173308968544\n"
          ]
        }
      ]
    },
    {
      "cell_type": "code",
      "source": [
        "plt.plot(range(epochs), losses)\n",
        "plt.xlabel('Epochs')\n",
        "plt.ylabel('Loss')"
      ],
      "metadata": {
        "id": "iMAz8SZHK-p8",
        "outputId": "aa4d7a81-299d-4ebb-d356-80e46b20bd3c",
        "colab": {
          "base_uri": "https://localhost:8080/",
          "height": 466
        }
      },
      "execution_count": 134,
      "outputs": [
        {
          "output_type": "execute_result",
          "data": {
            "text/plain": [
              "Text(0, 0.5, 'Loss')"
            ]
          },
          "metadata": {},
          "execution_count": 134
        },
        {
          "output_type": "display_data",
          "data": {
            "text/plain": [
              "<Figure size 640x480 with 1 Axes>"
            ],
            "image/png": "[encoded data removed]"
          },
          "metadata": {}
        }
      ]
    },
    {
      "cell_type": "code",
      "source": [
        "# Evaluate Model on Tesr dataset\n",
        "with torch.no_grad():\n",
        "  y_eval = model.forward(X_test)\n",
        "  loss = criterion(y_eval, Y_test)"
      ],
      "metadata": {
        "id": "Wgw4ZYLbQuR-"
      },
      "execution_count": 135,
      "outputs": []
    },
    {
      "cell_type": "code",
      "source": [
        "loss"
      ],
      "metadata": {
        "id": "N0amqwkSRm4J",
        "outputId": "2ee1368f-e1f0-4053-9439-190ca5504383",
        "colab": {
          "base_uri": "https://localhost:8080/"
        }
      },
      "execution_count": 136,
      "outputs": [
        {
          "output_type": "execute_result",
          "data": {
            "text/plain": [
              "tensor(0.0940)"
            ]
          },
          "metadata": {},
          "execution_count": 136
        }
      ]
    },
    {
      "cell_type": "code",
      "source": [
        "correct = 0\n",
        "with torch.no_grad():\n",
        "  for i, data in enumerate(X_test):\n",
        "    y_val = model(data)\n",
        "\n",
        "    print(f'{i+1}. {y_val.argmax().item()} {Y_test[i]}')\n",
        "\n",
        "    # Find correct\n",
        "    if torch.argmax(y_val) == Y_test[i]:\n",
        "      correct += 1\n",
        "\n",
        "print(f'\\n{correct} out of {len(Y_test)} = {100*correct/len(Y_test)}% correct')"
      ],
      "metadata": {
        "id": "HfQRbxOZRrNJ",
        "outputId": "07ed871b-d91f-4ada-86cc-6cc1abca4abe",
        "colab": {
          "base_uri": "https://localhost:8080/"
        }
      },
      "execution_count": 137,
      "outputs": [
        {
          "output_type": "stream",
          "name": "stdout",
          "text": [
            "1. 0 0\n",
            "2. 1 1\n",
            "3. 1 1\n",
            "4. 2 2\n",
            "5. 1 1\n",
            "6. 0 0\n",
            "7. 2 2\n",
            "8. 2 2\n",
            "9. 0 0\n",
            "10. 2 2\n",
            "11. 2 2\n",
            "12. 2 2\n",
            "13. 1 1\n",
            "14. 0 0\n",
            "15. 2 2\n",
            "16. 1 1\n",
            "17. 1 1\n",
            "18. 1 1\n",
            "19. 0 0\n",
            "20. 1 2\n",
            "21. 2 2\n",
            "22. 2 2\n",
            "23. 2 2\n",
            "24. 1 1\n",
            "25. 1 1\n",
            "26. 2 2\n",
            "27. 1 1\n",
            "28. 0 0\n",
            "29. 2 2\n",
            "30. 1 1\n",
            "\n",
            "29 out of 30 = 96.66666666666667% correct\n"
          ]
        }
      ]
    },
    {
      "cell_type": "code",
      "source": [
        "# Save the model\n",
        "torch.save(model.state_dict(), 'my_model.pth')"
      ],
      "metadata": {
        "id": "QiNravauq3He"
      },
      "execution_count": 138,
      "outputs": []
    },
    {
      "cell_type": "code",
      "source": [
        "# Load the model\n",
        "loaded_model =  Model()\n",
        "loaded_model.load_state_dict(torch.load('my_model.pth', weights_only=True))"
      ],
      "metadata": {
        "colab": {
          "base_uri": "https://localhost:8080/"
        },
        "id": "bUnAW63Oq7ZK",
        "outputId": "7b3e2020-bd21-4feb-f1c5-f6e9f88ee954"
      },
      "execution_count": 139,
      "outputs": [
        {
          "output_type": "execute_result",
          "data": {
            "text/plain": [
              "<All keys matched successfully>"
            ]
          },
          "metadata": {},
          "execution_count": 139
        }
      ]
    },
    {
      "cell_type": "code",
      "source": [
        "# Create a new tensor of 4 elements\n",
        "new_data = torch.tensor([1.0, 2.0, 3.0, 4.0])"
      ],
      "metadata": {
        "id": "ZJwU999qrFtB"
      },
      "execution_count": 140,
      "outputs": []
    },
    {
      "cell_type": "code",
      "source": [
        "# Test the new data with the loaded model\n",
        "with torch.no_grad():\n",
        "  output = loaded_model(new_data)\n",
        "  print(f'Output from the loaded model: {output}')"
      ],
      "metadata": {
        "colab": {
          "base_uri": "https://localhost:8080/"
        },
        "id": "iVNu99IVrJQ9",
        "outputId": "73f903d4-66db-44d7-b49a-9bb9ca910b94"
      },
      "execution_count": 141,
      "outputs": [
        {
          "output_type": "stream",
          "name": "stdout",
          "text": [
            "Output from the loaded model: tensor([-6.7543, -1.5580,  9.8283])\n"
          ]
        }
      ]
    },
    {
      "cell_type": "code",
      "source": [
        "# Evaluate the loaded model on the test dataset\n",
        "correct = 0\n",
        "with torch.no_grad():\n",
        "  for i, data in enumerate(X_test):\n",
        "    y_val = loaded_model(data)\n",
        "\n",
        "    print(f'{i+1}. {y_val.argmax().item()} {Y_test[i]}')\n",
        "\n",
        "    if torch.argmax(y_val) == Y_test[i]:\n",
        "      correct += 1\n",
        "\n",
        "print(f'\\n{correct} out of {len(Y_test)} = {100*correct/len(Y_test)}% correct')"
      ],
      "metadata": {
        "colab": {
          "base_uri": "https://localhost:8080/"
        },
        "id": "iQ1Y9QMJrOaV",
        "outputId": "3e7a48ec-8322-4891-ba69-1f7cf3044ce9"
      },
      "execution_count": 142,
      "outputs": [
        {
          "output_type": "stream",
          "name": "stdout",
          "text": [
            "1. 0 0\n",
            "2. 1 1\n",
            "3. 1 1\n",
            "4. 2 2\n",
            "5. 1 1\n",
            "6. 0 0\n",
            "7. 2 2\n",
            "8. 2 2\n",
            "9. 0 0\n",
            "10. 2 2\n",
            "11. 2 2\n",
            "12. 2 2\n",
            "13. 1 1\n",
            "14. 0 0\n",
            "15. 2 2\n",
            "16. 1 1\n",
            "17. 1 1\n",
            "18. 1 1\n",
            "19. 0 0\n",
            "20. 1 2\n",
            "21. 2 2\n",
            "22. 2 2\n",
            "23. 2 2\n",
            "24. 1 1\n",
            "25. 1 1\n",
            "26. 2 2\n",
            "27. 1 1\n",
            "28. 0 0\n",
            "29. 2 2\n",
            "30. 1 1\n",
            "\n",
            "29 out of 30 = 96.66666666666667% correct\n"
          ]
        }
      ]
    },
    {
      "cell_type": "markdown",
      "source": [
        "## Creating Convolutional Neural Network\n",
        "\n",
        "\n"
      ],
      "metadata": {
        "id": "bTdC0tWtrVip"
      }
    },
    {
      "cell_type": "code",
      "source": [
        "import torch\n",
        "import torch.nn as nn\n",
        "import torch.nn.functional as F\n",
        "\n",
        "from torch.utils.data import DataLoader\n",
        "from torchvision import datasets, transforms\n",
        "from torchvision.utils import make_grid\n",
        "\n",
        "import numpy as np\n",
        "import pandas as pd\n",
        "\n",
        "from sklearn.metrics import confusion_matrix\n",
        "import matplotlib.pyplot as plt\n",
        "%matplotlib inline"
      ],
      "metadata": {
        "id": "Of4WoX5Qnz_c"
      },
      "execution_count": 143,
      "outputs": []
    },
    {
      "cell_type": "code",
      "source": [
        "# Convert MNIST Images into tensor of 4D (# of images, height, width, color)\n",
        "transform = transforms.ToTensor()"
      ],
      "metadata": {
        "id": "37SSPI0jorC_"
      },
      "execution_count": 144,
      "outputs": []
    },
    {
      "cell_type": "code",
      "source": [
        "# Train Data\n",
        "train_data = datasets.MNIST(root='/cnn_data', train=True, download=True, transform=transform)"
      ],
      "metadata": {
        "id": "bNPkzz2IqDAH"
      },
      "execution_count": 145,
      "outputs": []
    },
    {
      "cell_type": "code",
      "source": [
        "# Test Data\n",
        "test_data = datasets.MNIST(root='/cnn_data', train=False, download=True, transform=transform)"
      ],
      "metadata": {
        "id": "bWOhLMuRsKAp"
      },
      "execution_count": 146,
      "outputs": []
    },
    {
      "cell_type": "code",
      "source": [
        "train_data"
      ],
      "metadata": {
        "colab": {
          "base_uri": "https://localhost:8080/"
        },
        "id": "-_brR2Lgrn2g",
        "outputId": "69e114eb-bca3-4534-a4e3-cf2125e2053f"
      },
      "execution_count": 147,
      "outputs": [
        {
          "output_type": "execute_result",
          "data": {
            "text/plain": [
              "Dataset MNIST\n",
              "    Number of datapoints: 60000\n",
              "    Root location: /cnn_data\n",
              "    Split: Train\n",
              "    StandardTransform\n",
              "Transform: ToTensor()"
            ]
          },
          "metadata": {},
          "execution_count": 147
        }
      ]
    },
    {
      "cell_type": "code",
      "source": [
        "test_data"
      ],
      "metadata": {
        "colab": {
          "base_uri": "https://localhost:8080/"
        },
        "id": "5aWDhaiAr2W9",
        "outputId": "3e55c29d-e3ac-4541-d7ce-20ceaee2aef9"
      },
      "execution_count": 148,
      "outputs": [
        {
          "output_type": "execute_result",
          "data": {
            "text/plain": [
              "Dataset MNIST\n",
              "    Number of datapoints: 10000\n",
              "    Root location: /cnn_data\n",
              "    Split: Test\n",
              "    StandardTransform\n",
              "Transform: ToTensor()"
            ]
          },
          "metadata": {},
          "execution_count": 148
        }
      ]
    },
    {
      "cell_type": "code",
      "source": [
        "pwd"
      ],
      "metadata": {
        "colab": {
          "base_uri": "https://localhost:8080/",
          "height": 35
        },
        "id": "go1t-x96sSt3",
        "outputId": "d99191ce-80e9-4edd-edf3-f237e17f6825"
      },
      "execution_count": 149,
      "outputs": [
        {
          "output_type": "execute_result",
          "data": {
            "text/plain": [
              "'/content'"
            ],
            "application/vnd.google.colaboratory.intrinsic+json": {
              "type": "string"
            }
          },
          "metadata": {},
          "execution_count": 149
        }
      ]
    },
    {
      "cell_type": "code",
      "source": [
        "ls ../"
      ],
      "metadata": {
        "colab": {
          "base_uri": "https://localhost:8080/"
        },
        "id": "gdze510GshfN",
        "outputId": "c3b23e61-1868-4016-e65e-e63edbade0b3"
      },
      "execution_count": 150,
      "outputs": [
        {
          "output_type": "stream",
          "name": "stdout",
          "text": [
            "\u001b[0m\u001b[01;36mbin\u001b[0m@       cuda-keyring_1.0-1_all.deb  \u001b[01;34mhome\u001b[0m/   \u001b[01;36mlibx32\u001b[0m@                   \u001b[01;34mopt\u001b[0m/         \u001b[01;34mrun\u001b[0m/   \u001b[30;42mtmp\u001b[0m/\n",
            "\u001b[01;34mboot\u001b[0m/      \u001b[01;34mdatalab\u001b[0m/                    \u001b[01;36mlib\u001b[0m@    \u001b[01;34mmedia\u001b[0m/                    \u001b[01;34mproc\u001b[0m/        \u001b[01;36msbin\u001b[0m@  \u001b[01;34mtools\u001b[0m/\n",
            "\u001b[01;34mcnn_data\u001b[0m/  \u001b[01;34mdev\u001b[0m/                        \u001b[01;36mlib32\u001b[0m@  \u001b[01;34mmnt\u001b[0m/                      \u001b[01;34mpython-apt\u001b[0m/  \u001b[01;34msrv\u001b[0m/   \u001b[01;34musr\u001b[0m/\n",
            "\u001b[01;34mcontent\u001b[0m/   \u001b[01;34metc\u001b[0m/                        \u001b[01;36mlib64\u001b[0m@  NGC-DL-CONTAINER-LICENSE  \u001b[01;34mroot\u001b[0m/        \u001b[01;34msys\u001b[0m/   \u001b[01;34mvar\u001b[0m/\n"
          ]
        }
      ]
    },
    {
      "cell_type": "code",
      "source": [
        "ls ../cnn_data/MNIST/raw"
      ],
      "metadata": {
        "colab": {
          "base_uri": "https://localhost:8080/"
        },
        "id": "_rVUityPsjvU",
        "outputId": "c72fff9b-37c7-4e67-b826-89f8b0bc0fb5"
      },
      "execution_count": 151,
      "outputs": [
        {
          "output_type": "stream",
          "name": "stdout",
          "text": [
            "t10k-images-idx3-ubyte     t10k-labels-idx1-ubyte.gz   train-labels-idx1-ubyte\n",
            "t10k-images-idx3-ubyte.gz  train-images-idx3-ubyte     train-labels-idx1-ubyte.gz\n",
            "t10k-labels-idx1-ubyte     train-images-idx3-ubyte.gz\n"
          ]
        }
      ]
    },
    {
      "cell_type": "code",
      "source": [
        "# Create small batch size for images ... let's say 10\n",
        "train_loader = DataLoader(train_data, batch_size=10, shuffle=True)\n",
        "test_loader = DataLoader(test_data, batch_size=10, shuffle=False)"
      ],
      "metadata": {
        "id": "KXsVj6QFtALS"
      },
      "execution_count": 152,
      "outputs": []
    },
    {
      "cell_type": "code",
      "source": [
        "# Create Our CNN Model\n",
        "\n",
        "conv1 = nn.Conv2d(1, 6, 3, 1)\n",
        "conv2 = nn.Conv2d(6, 16, 3, 1)"
      ],
      "metadata": {
        "id": "4DkzPqIot07X"
      },
      "execution_count": 153,
      "outputs": []
    },
    {
      "cell_type": "code",
      "source": [
        "# Grab 1 MNIST record/image\n",
        "for i, (X_Train, y_train) in enumerate(train_data):\n",
        "  break\n"
      ],
      "metadata": {
        "id": "cf69ZPqYyNAR"
      },
      "execution_count": 154,
      "outputs": []
    },
    {
      "cell_type": "code",
      "source": [
        "X_Train.shape"
      ],
      "metadata": {
        "colab": {
          "base_uri": "https://localhost:8080/"
        },
        "id": "YF-KYBWrybaO",
        "outputId": "ea5eaba1-a5c7-4c66-8cc9-57404954d1d6"
      },
      "execution_count": 155,
      "outputs": [
        {
          "output_type": "execute_result",
          "data": {
            "text/plain": [
              "torch.Size([1, 28, 28])"
            ]
          },
          "metadata": {},
          "execution_count": 155
        }
      ]
    },
    {
      "cell_type": "code",
      "source": [
        "x = X_Train.view(1, 1, 28, 28)"
      ],
      "metadata": {
        "id": "d3Ky62zty4Ve"
      },
      "execution_count": 156,
      "outputs": []
    },
    {
      "cell_type": "code",
      "source": [
        "# Perform convolution\n",
        "\n",
        "x = F.relu(conv1(x)) # RelU activation function"
      ],
      "metadata": {
        "id": "8hRiZA1sy_hw"
      },
      "execution_count": 157,
      "outputs": []
    },
    {
      "cell_type": "code",
      "source": [
        "x.shape\n",
        "\n",
        "# 1 => # of images, 6 => # of filiters, 26 by 26 => conv output of the given image"
      ],
      "metadata": {
        "colab": {
          "base_uri": "https://localhost:8080/"
        },
        "id": "iTM3wGClzQiD",
        "outputId": "0e9e54af-6d8e-413e-cc9f-b67cf637d540"
      },
      "execution_count": 158,
      "outputs": [
        {
          "output_type": "execute_result",
          "data": {
            "text/plain": [
              "torch.Size([1, 6, 26, 26])"
            ]
          },
          "metadata": {},
          "execution_count": 158
        }
      ]
    },
    {
      "cell_type": "code",
      "source": [
        "# Pass through the pooling layer\n",
        "x = F.max_pool2d(x, 2, 2)"
      ],
      "metadata": {
        "id": "TxfE7KWqz1bF"
      },
      "execution_count": 159,
      "outputs": []
    },
    {
      "cell_type": "code",
      "source": [
        "x.shape\n",
        "\n",
        "# 1 => # of images, 6 => # of filiters, 13 by 13 => maxpool output of the given conv output"
      ],
      "metadata": {
        "colab": {
          "base_uri": "https://localhost:8080/"
        },
        "id": "y9-C_Tlm0JyV",
        "outputId": "5da62139-85d5-47d0-89f6-b805184343fd"
      },
      "execution_count": 160,
      "outputs": [
        {
          "output_type": "execute_result",
          "data": {
            "text/plain": [
              "torch.Size([1, 6, 13, 13])"
            ]
          },
          "metadata": {},
          "execution_count": 160
        }
      ]
    },
    {
      "cell_type": "code",
      "source": [
        "# Repeat convolution for conv2\n",
        "x = F.relu(conv2(x))"
      ],
      "metadata": {
        "id": "WDiDE3ed0gts"
      },
      "execution_count": 161,
      "outputs": []
    },
    {
      "cell_type": "code",
      "source": [
        "x.shape"
      ],
      "metadata": {
        "colab": {
          "base_uri": "https://localhost:8080/"
        },
        "id": "Yw1K56Xx07Og",
        "outputId": "dd124456-18e1-4658-de52-179e0e2db857"
      },
      "execution_count": 162,
      "outputs": [
        {
          "output_type": "execute_result",
          "data": {
            "text/plain": [
              "torch.Size([1, 16, 11, 11])"
            ]
          },
          "metadata": {},
          "execution_count": 162
        }
      ]
    },
    {
      "cell_type": "code",
      "source": [
        "x = F.max_pool2d(x, 2, 2)"
      ],
      "metadata": {
        "id": "Mp_erFUB1Naw"
      },
      "execution_count": 163,
      "outputs": []
    },
    {
      "cell_type": "code",
      "source": [
        "x.shape"
      ],
      "metadata": {
        "colab": {
          "base_uri": "https://localhost:8080/"
        },
        "id": "2YcmeokC1T3I",
        "outputId": "c4d0ff50-fe71-4a9e-9ed3-fd15e8328179"
      },
      "execution_count": 164,
      "outputs": [
        {
          "output_type": "execute_result",
          "data": {
            "text/plain": [
              "torch.Size([1, 16, 5, 5])"
            ]
          },
          "metadata": {},
          "execution_count": 164
        }
      ]
    },
    {
      "cell_type": "code",
      "source": [
        "# Create CNN Model Class\n",
        "\n",
        "class CNN(nn.Module):\n",
        "  def __init__(self):\n",
        "    super().__init__()\n",
        "    self.conv1 = nn.Conv2d(1, 6, 3, 1)\n",
        "    self.conv2 = nn.Conv2d(6, 16, 3, 1)\n",
        "    # Fully connected Layer\n",
        "    self.fc1 = nn.Linear(5*5*16, 120)\n",
        "    self.fc2 = nn.Linear(120, 84)\n",
        "    self.fc3 = nn.Linear(84, 10)\n",
        "\n",
        "  def forward(self, x):\n",
        "      x = F.relu(self.conv1(x))\n",
        "      x = F.max_pool2d(x, 2, 2)\n",
        "      x = F.relu(self.conv2(x))\n",
        "      x = F.max_pool2d(x, 2, 2)\n",
        "      x = x.view(-1, 5*5*16) # Flatten\n",
        "      x = F.relu(self.fc1(x))\n",
        "      x = F.relu(self.fc2(x))\n",
        "      x = self.fc3(x)\n",
        "      return x"
      ],
      "metadata": {
        "id": "J8YP0S-JlNte"
      },
      "execution_count": 165,
      "outputs": []
    },
    {
      "cell_type": "code",
      "source": [
        "# Create an instant of the class\n",
        "\n",
        "cnn_model = CNN()\n",
        "cnn_model.eval()"
      ],
      "metadata": {
        "colab": {
          "base_uri": "https://localhost:8080/"
        },
        "id": "HrMJI-CanTDX",
        "outputId": "8cd30dfd-e013-498c-906b-18d941c1fa43"
      },
      "execution_count": 166,
      "outputs": [
        {
          "output_type": "execute_result",
          "data": {
            "text/plain": [
              "CNN(\n",
              "  (conv1): Conv2d(1, 6, kernel_size=(3, 3), stride=(1, 1))\n",
              "  (conv2): Conv2d(6, 16, kernel_size=(3, 3), stride=(1, 1))\n",
              "  (fc1): Linear(in_features=400, out_features=120, bias=True)\n",
              "  (fc2): Linear(in_features=120, out_features=84, bias=True)\n",
              "  (fc3): Linear(in_features=84, out_features=10, bias=True)\n",
              ")"
            ]
          },
          "metadata": {},
          "execution_count": 166
        }
      ]
    },
    {
      "cell_type": "code",
      "source": [
        "# Define loss function\n",
        "\n",
        "creterion = nn.CrossEntropyLoss()\n",
        "\n",
        "optimizer = torch.optim.Adam(cnn_model.parameters(), lr=0.001) # smaller lr slows training time"
      ],
      "metadata": {
        "id": "ZjlT-rkXnbeR"
      },
      "execution_count": 167,
      "outputs": []
    },
    {
      "cell_type": "code",
      "source": [
        "import time\n",
        "import torch\n",
        "\n",
        "start_time = time.time()\n",
        "\n",
        "# Create var to track things\n",
        "epochs = 4\n",
        "\n",
        "train_losses = []\n",
        "test_losses = []\n",
        "\n",
        "train_correct = []\n",
        "test_correct = []\n",
        "\n",
        "# Loop through epochs\n",
        "for i in range(epochs):\n",
        "    trn_corr = 0\n",
        "    tst_corr = 0\n",
        "    epoch_loss = 0  # Variable to track loss for the epoch\n",
        "\n",
        "    # Train the model\n",
        "    for b, (X_train, y_train) in enumerate(train_loader):\n",
        "        b += 1\n",
        "\n",
        "        y_pred = cnn_model.forward(X_train)\n",
        "        loss = criterion(y_pred, y_train)  # Corrected spelling\n",
        "\n",
        "        predicted = torch.max(y_pred.data, 1)[1]\n",
        "        batch_corr = (predicted == y_train).sum()\n",
        "        trn_corr += batch_corr\n",
        "\n",
        "        optimizer.zero_grad()\n",
        "        loss.backward()\n",
        "        optimizer.step()\n",
        "\n",
        "        epoch_loss += loss.item()  # Accumulate loss\n",
        "\n",
        "        if b % 600 == 0:\n",
        "            print(f'Epoch: {i} Batch: {b} Loss: {loss.item()}')\n",
        "\n",
        "    train_losses.append(epoch_loss / len(train_loader))  # Average loss for the epoch\n",
        "    train_correct.append(trn_corr)\n",
        "\n",
        "    with torch.no_grad():\n",
        "        epoch_test_loss = 0  # Variable to track test loss for the epoch\n",
        "        for b, (X_test, y_test) in enumerate(test_loader):\n",
        "            y_val = cnn_model.forward(X_test)\n",
        "            loss = criterion(y_val, y_test)  # Calculate loss for the test batch\n",
        "            epoch_test_loss += loss.item()  # Accumulate test loss\n",
        "\n",
        "            predicted = torch.max(y_val.data, 1)[1]\n",
        "            tst_corr += (predicted == y_test).sum()\n",
        "\n",
        "        test_losses.append(epoch_test_loss / len(test_loader))  # Average test loss\n",
        "        test_correct.append(tst_corr)\n",
        "\n",
        "current_time = time.time()\n",
        "\n",
        "print(f\"Training took {(current_time - start_time) / 60} minutes\")\n"
      ],
      "metadata": {
        "colab": {
          "base_uri": "https://localhost:8080/"
        },
        "id": "0Im0YFw3oM-F",
        "outputId": "40ed7495-cf41-4225-b86f-7e44790a465e"
      },
      "execution_count": 168,
      "outputs": [
        {
          "output_type": "stream",
          "name": "stdout",
          "text": [
            "Epoch: 0 Batch: 600 Loss: 0.1939995288848877\n",
            "Epoch: 0 Batch: 1200 Loss: 0.5757544040679932\n",
            "Epoch: 0 Batch: 1800 Loss: 0.142415389418602\n",
            "Epoch: 0 Batch: 2400 Loss: 0.05689683556556702\n",
            "Epoch: 0 Batch: 3000 Loss: 0.0476134791970253\n",
            "Epoch: 0 Batch: 3600 Loss: 0.042053379118442535\n",
            "Epoch: 0 Batch: 4200 Loss: 0.019136440008878708\n",
            "Epoch: 0 Batch: 4800 Loss: 0.008012881502509117\n",
            "Epoch: 0 Batch: 5400 Loss: 0.39783579111099243\n",
            "Epoch: 0 Batch: 6000 Loss: 0.135793074965477\n",
            "Epoch: 1 Batch: 600 Loss: 0.20844516158103943\n",
            "Epoch: 1 Batch: 1200 Loss: 0.015902262181043625\n",
            "Epoch: 1 Batch: 1800 Loss: 0.0010462790960446\n",
            "Epoch: 1 Batch: 2400 Loss: 0.016885945573449135\n",
            "Epoch: 1 Batch: 3000 Loss: 0.22132393717765808\n",
            "Epoch: 1 Batch: 3600 Loss: 0.003559869946911931\n",
            "Epoch: 1 Batch: 4200 Loss: 0.003573962254449725\n",
            "Epoch: 1 Batch: 4800 Loss: 0.005090408027172089\n",
            "Epoch: 1 Batch: 5400 Loss: 0.16481176018714905\n",
            "Epoch: 1 Batch: 6000 Loss: 0.0203046016395092\n",
            "Epoch: 2 Batch: 600 Loss: 0.0019661332480609417\n",
            "Epoch: 2 Batch: 1200 Loss: 0.007491650991141796\n",
            "Epoch: 2 Batch: 1800 Loss: 0.002813162514939904\n",
            "Epoch: 2 Batch: 2400 Loss: 0.010202193632721901\n",
            "Epoch: 2 Batch: 3000 Loss: 0.0073293717578053474\n",
            "Epoch: 2 Batch: 3600 Loss: 0.006546346936374903\n",
            "Epoch: 2 Batch: 4200 Loss: 0.12570057809352875\n",
            "Epoch: 2 Batch: 4800 Loss: 0.05019227787852287\n",
            "Epoch: 2 Batch: 5400 Loss: 0.006323608104139566\n",
            "Epoch: 2 Batch: 6000 Loss: 0.3435397744178772\n",
            "Epoch: 3 Batch: 600 Loss: 0.017510252073407173\n",
            "Epoch: 3 Batch: 1200 Loss: 0.0003643697127699852\n",
            "Epoch: 3 Batch: 1800 Loss: 0.0019221951952204108\n",
            "Epoch: 3 Batch: 2400 Loss: 0.0010869253892451525\n",
            "Epoch: 3 Batch: 3000 Loss: 0.006322908215224743\n",
            "Epoch: 3 Batch: 3600 Loss: 0.00031900807516649365\n",
            "Epoch: 3 Batch: 4200 Loss: 0.007045661099255085\n",
            "Epoch: 3 Batch: 4800 Loss: 0.0941968634724617\n",
            "Epoch: 3 Batch: 5400 Loss: 0.0008799022762104869\n",
            "Epoch: 3 Batch: 6000 Loss: 0.017204273492097855\n",
            "Training took 3.3440624912579855 minutes\n"
          ]
        }
      ]
    },
    {
      "cell_type": "code",
      "source": [
        "# graph the accuracy\n",
        "plt.plot([t/600 for t in train_correct], label='Training Accuracy')\n",
        "plt.plot([t/100 for t in test_correct], label='Testing Accuracy')\n",
        "plt.title('Accuracy at the End of Each Epoch')\n",
        "plt.legend()"
      ],
      "metadata": {
        "id": "d0DY_LC5x_cM",
        "outputId": "c54796f6-c299-43ce-98d7-df8cff1a9c98",
        "colab": {
          "base_uri": "https://localhost:8080/",
          "height": 469
        }
      },
      "execution_count": 172,
      "outputs": [
        {
          "output_type": "execute_result",
          "data": {
            "text/plain": [
              "<matplotlib.legend.Legend at 0x7bd035ce6560>"
            ]
          },
          "metadata": {},
          "execution_count": 172
        },
        {
          "output_type": "display_data",
          "data": {
            "text/plain": [
              "<Figure size 640x480 with 1 Axes>"
            ],
            "image/png": "[encoded data removed]"
          },
          "metadata": {}
        }
      ]
    },
    {
      "cell_type": "code",
      "source": [
        "with torch.no_grad():\n",
        "  correct = 0\n",
        "  for b, (X_test, y_test) in enumerate(test_loader):\n",
        "    y_val = cnn_model(X_test)\n",
        "    predicted = torch.max(y_val.data, 1)[1]\n",
        "    correct += (predicted == y_test).sum()\n",
        "\n",
        "  print(f'Test Accuracy: {100*correct/len(test_data)}%')"
      ],
      "metadata": {
        "id": "aLGPxCcFyvlk",
        "outputId": "e2f9107e-1b7b-466c-f774-2429933305fa",
        "colab": {
          "base_uri": "https://localhost:8080/"
        }
      },
      "execution_count": 186,
      "outputs": [
        {
          "output_type": "stream",
          "name": "stdout",
          "text": [
            "Test Accuracy: 98.6500015258789%\n"
          ]
        }
      ]
    },
    {
      "cell_type": "code",
      "source": [
        "torch.save(cnn_model.state_dict(), 'cnn_model.pth')"
      ],
      "metadata": {
        "id": "NMT2x9tsxV6w"
      },
      "execution_count": 174,
      "outputs": []
    },
    {
      "cell_type": "code",
      "source": [
        "loaded_cnn_model = CNN()\n",
        "loaded_cnn_model.load_state_dict(torch.load('cnn_model.pth', weights_only=True))"
      ],
      "metadata": {
        "id": "znBMRrdK5yBa",
        "outputId": "fc132258-3c44-499b-8ef7-5a8cb1430442",
        "colab": {
          "base_uri": "https://localhost:8080/"
        }
      },
      "execution_count": 175,
      "outputs": [
        {
          "output_type": "execute_result",
          "data": {
            "text/plain": [
              "<All keys matched successfully>"
            ]
          },
          "metadata": {},
          "execution_count": 175
        }
      ]
    },
    {
      "cell_type": "code",
      "source": [
        "import random\n",
        "\n",
        "index = random.randint(0, len(test_data))\n",
        "\n",
        "img = test_data[index][0]\n",
        "\n",
        "plt.imshow(img.reshape(28, 28), cmap='gray')"
      ],
      "metadata": {
        "id": "grqxtREs53Os",
        "outputId": "c2e4d4e6-0357-4683-b319-873106f61a92",
        "colab": {
          "base_uri": "https://localhost:8080/",
          "height": 447
        }
      },
      "execution_count": 185,
      "outputs": [
        {
          "output_type": "execute_result",
          "data": {
            "text/plain": [
              "<matplotlib.image.AxesImage at 0x7bd035d75090>"
            ]
          },
          "metadata": {},
          "execution_count": 185
        },
        {
          "output_type": "display_data",
          "data": {
            "text/plain": [
              "<Figure size 640x480 with 1 Axes>"
            ],
            "image/png": "[encoded data removed]"
          },
          "metadata": {}
        }
      ]
    },
    {
      "cell_type": "code",
      "source": [
        "# Pass img through our cnn model\n",
        "with torch.no_grad():\n",
        "  output = loaded_cnn_model(img.view(1, 1, 28, 28))\n",
        "  print(output.argmax().detach().numpy())"
      ],
      "metadata": {
        "id": "y-scrC8m6Z5e",
        "outputId": "b804e37a-3ce9-429a-9f7d-bbbae16a90a4",
        "colab": {
          "base_uri": "https://localhost:8080/"
        }
      },
      "execution_count": 184,
      "outputs": [
        {
          "output_type": "stream",
          "name": "stdout",
          "text": [
            "1\n"
          ]
        }
      ]
    }
  ]
}